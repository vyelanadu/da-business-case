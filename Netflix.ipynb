{
 "cells": [
  {
   "cell_type": "markdown",
   "id": "1c889e5c-57a5-44d3-be3b-379b6da9314d",
   "metadata": {},
   "source": [
    "# Data import"
   ]
  },
  {
   "cell_type": "code",
   "execution_count": 348,
   "id": "b12ad576-9a80-483e-a733-451bcef545cd",
   "metadata": {},
   "outputs": [],
   "source": [
    "import pandas as pd \n",
    "df = pd.read_csv(\"C:/Users/Madhuri/Desktop/DS-ML/python/Data/netflix.csv\")"
   ]
  },
  {
   "cell_type": "markdown",
   "id": "ec9f7b06-1375-4b4d-acdf-9e7b359c9132",
   "metadata": {},
   "source": [
    "### Shape"
   ]
  },
  {
   "cell_type": "code",
   "execution_count": 349,
   "id": "f02941cb-9149-4c2b-8b70-42798eaeb4c6",
   "metadata": {},
   "outputs": [
    {
     "data": {
      "text/plain": [
       "(8807, 12)"
      ]
     },
     "execution_count": 349,
     "metadata": {},
     "output_type": "execute_result"
    }
   ],
   "source": [
    "df.shape"
   ]
  },
  {
   "cell_type": "markdown",
   "id": "4e61a003-55aa-49ab-851e-eb5bf77b94bf",
   "metadata": {},
   "source": [
    " ### Columns , Data types and non null count"
   ]
  },
  {
   "cell_type": "code",
   "execution_count": 350,
   "id": "eed05100-a35b-466f-af14-1268dc283d24",
   "metadata": {},
   "outputs": [
    {
     "name": "stdout",
     "output_type": "stream",
     "text": [
      "<class 'pandas.core.frame.DataFrame'>\n",
      "RangeIndex: 8807 entries, 0 to 8806\n",
      "Data columns (total 12 columns):\n",
      " #   Column        Non-Null Count  Dtype \n",
      "---  ------        --------------  ----- \n",
      " 0   show_id       8807 non-null   object\n",
      " 1   type          8807 non-null   object\n",
      " 2   title         8807 non-null   object\n",
      " 3   director      6173 non-null   object\n",
      " 4   cast          7982 non-null   object\n",
      " 5   country       7976 non-null   object\n",
      " 6   date_added    8797 non-null   object\n",
      " 7   release_year  8807 non-null   int64 \n",
      " 8   rating        8803 non-null   object\n",
      " 9   duration      8804 non-null   object\n",
      " 10  listed_in     8807 non-null   object\n",
      " 11  description   8807 non-null   object\n",
      "dtypes: int64(1), object(11)\n",
      "memory usage: 825.8+ KB\n"
     ]
    }
   ],
   "source": [
    "df.info()"
   ]
  },
  {
   "cell_type": "markdown",
   "id": "a38d8c2c-f089-4f87-9bea-cd349a5e4e22",
   "metadata": {},
   "source": [
    "### Missing values count Column wise"
   ]
  },
  {
   "cell_type": "code",
   "execution_count": 351,
   "id": "2bc8e6f6-595f-41de-8bda-9bc202f6bbc0",
   "metadata": {},
   "outputs": [
    {
     "data": {
      "text/plain": [
       "show_id            0\n",
       "type               0\n",
       "title              0\n",
       "director        2634\n",
       "cast             825\n",
       "country          831\n",
       "date_added        10\n",
       "release_year       0\n",
       "rating             4\n",
       "duration           3\n",
       "listed_in          0\n",
       "description        0\n",
       "dtype: int64"
      ]
     },
     "execution_count": 351,
     "metadata": {},
     "output_type": "execute_result"
    }
   ],
   "source": [
    "df.isnull().sum()"
   ]
  },
  {
   "cell_type": "code",
   "execution_count": 352,
   "id": "cf5d7e59-ebe0-490e-bf8b-ca8f4b471f3e",
   "metadata": {},
   "outputs": [
    {
     "data": {
      "text/html": [
       "<div>\n",
       "<style scoped>\n",
       "    .dataframe tbody tr th:only-of-type {\n",
       "        vertical-align: middle;\n",
       "    }\n",
       "\n",
       "    .dataframe tbody tr th {\n",
       "        vertical-align: top;\n",
       "    }\n",
       "\n",
       "    .dataframe thead th {\n",
       "        text-align: right;\n",
       "    }\n",
       "</style>\n",
       "<table border=\"1\" class=\"dataframe\">\n",
       "  <thead>\n",
       "    <tr style=\"text-align: right;\">\n",
       "      <th></th>\n",
       "      <th>show_id</th>\n",
       "      <th>type</th>\n",
       "      <th>title</th>\n",
       "      <th>director</th>\n",
       "      <th>cast</th>\n",
       "      <th>country</th>\n",
       "      <th>date_added</th>\n",
       "      <th>release_year</th>\n",
       "      <th>rating</th>\n",
       "      <th>duration</th>\n",
       "      <th>listed_in</th>\n",
       "      <th>description</th>\n",
       "    </tr>\n",
       "  </thead>\n",
       "  <tbody>\n",
       "    <tr>\n",
       "      <th>3123</th>\n",
       "      <td>s3124</td>\n",
       "      <td>Movie</td>\n",
       "      <td>Ronny Chieng: Asian Comedian Destroys America!</td>\n",
       "      <td>Sebastian DiNatale</td>\n",
       "      <td>Ronny Chieng</td>\n",
       "      <td>United States</td>\n",
       "      <td>December 17, 2019</td>\n",
       "      <td>2019</td>\n",
       "      <td>TV-MA</td>\n",
       "      <td>63 min</td>\n",
       "      <td>Stand-Up Comedy</td>\n",
       "      <td>Ronny Chieng (\"The Daily Show,\" \"Crazy Rich As...</td>\n",
       "    </tr>\n",
       "    <tr>\n",
       "      <th>2834</th>\n",
       "      <td>s2835</td>\n",
       "      <td>Movie</td>\n",
       "      <td>I am Jonas</td>\n",
       "      <td>Christophe Charrier</td>\n",
       "      <td>Félix Maritaud, Nicolas Bauwens, Tommy Lee Baï...</td>\n",
       "      <td>France</td>\n",
       "      <td>March 6, 2020</td>\n",
       "      <td>2019</td>\n",
       "      <td>TV-MA</td>\n",
       "      <td>82 min</td>\n",
       "      <td>Dramas, Independent Movies, International Movies</td>\n",
       "      <td>A turbulent past haunts Jonas, who recalls his...</td>\n",
       "    </tr>\n",
       "    <tr>\n",
       "      <th>5259</th>\n",
       "      <td>s5260</td>\n",
       "      <td>TV Show</td>\n",
       "      <td>Satu Hari</td>\n",
       "      <td>NaN</td>\n",
       "      <td>Sara Ali, Remy Ishak, Rita Rudaini, Mirza Sali...</td>\n",
       "      <td>NaN</td>\n",
       "      <td>September 29, 2017</td>\n",
       "      <td>2014</td>\n",
       "      <td>TV-PG</td>\n",
       "      <td>1 Season</td>\n",
       "      <td>International TV Shows, TV Dramas</td>\n",
       "      <td>A man haunted by his wife's affair moves to Sa...</td>\n",
       "    </tr>\n",
       "    <tr>\n",
       "      <th>6923</th>\n",
       "      <td>s6924</td>\n",
       "      <td>TV Show</td>\n",
       "      <td>Happyish</td>\n",
       "      <td>NaN</td>\n",
       "      <td>Steve Coogan, Kathryn Hahn, Sawyer Shipman, Br...</td>\n",
       "      <td>United States</td>\n",
       "      <td>July 1, 2016</td>\n",
       "      <td>2015</td>\n",
       "      <td>TV-MA</td>\n",
       "      <td>1 Season</td>\n",
       "      <td>TV Comedies, TV Dramas</td>\n",
       "      <td>A middle-aged adman is shaken up by his new bo...</td>\n",
       "    </tr>\n",
       "    <tr>\n",
       "      <th>4194</th>\n",
       "      <td>s4195</td>\n",
       "      <td>Movie</td>\n",
       "      <td>The Doll</td>\n",
       "      <td>Rocky Soraya</td>\n",
       "      <td>Shandy Aulia, Denny Sumargo, Sara Wijayanto, V...</td>\n",
       "      <td>Indonesia</td>\n",
       "      <td>January 15, 2019</td>\n",
       "      <td>2016</td>\n",
       "      <td>TV-MA</td>\n",
       "      <td>106 min</td>\n",
       "      <td>Horror Movies, International Movies</td>\n",
       "      <td>Eerie things begin to happen after a man gives...</td>\n",
       "    </tr>\n",
       "  </tbody>\n",
       "</table>\n",
       "</div>"
      ],
      "text/plain": [
       "     show_id     type                                           title  \\\n",
       "3123   s3124    Movie  Ronny Chieng: Asian Comedian Destroys America!   \n",
       "2834   s2835    Movie                                      I am Jonas   \n",
       "5259   s5260  TV Show                                       Satu Hari   \n",
       "6923   s6924  TV Show                                        Happyish   \n",
       "4194   s4195    Movie                                        The Doll   \n",
       "\n",
       "                 director                                               cast  \\\n",
       "3123   Sebastian DiNatale                                       Ronny Chieng   \n",
       "2834  Christophe Charrier  Félix Maritaud, Nicolas Bauwens, Tommy Lee Baï...   \n",
       "5259                  NaN  Sara Ali, Remy Ishak, Rita Rudaini, Mirza Sali...   \n",
       "6923                  NaN  Steve Coogan, Kathryn Hahn, Sawyer Shipman, Br...   \n",
       "4194         Rocky Soraya  Shandy Aulia, Denny Sumargo, Sara Wijayanto, V...   \n",
       "\n",
       "            country          date_added  release_year rating  duration  \\\n",
       "3123  United States   December 17, 2019          2019  TV-MA    63 min   \n",
       "2834         France       March 6, 2020          2019  TV-MA    82 min   \n",
       "5259            NaN  September 29, 2017          2014  TV-PG  1 Season   \n",
       "6923  United States        July 1, 2016          2015  TV-MA  1 Season   \n",
       "4194      Indonesia    January 15, 2019          2016  TV-MA   106 min   \n",
       "\n",
       "                                             listed_in  \\\n",
       "3123                                   Stand-Up Comedy   \n",
       "2834  Dramas, Independent Movies, International Movies   \n",
       "5259                 International TV Shows, TV Dramas   \n",
       "6923                            TV Comedies, TV Dramas   \n",
       "4194               Horror Movies, International Movies   \n",
       "\n",
       "                                            description  \n",
       "3123  Ronny Chieng (\"The Daily Show,\" \"Crazy Rich As...  \n",
       "2834  A turbulent past haunts Jonas, who recalls his...  \n",
       "5259  A man haunted by his wife's affair moves to Sa...  \n",
       "6923  A middle-aged adman is shaken up by his new bo...  \n",
       "4194  Eerie things begin to happen after a man gives...  "
      ]
     },
     "execution_count": 352,
     "metadata": {},
     "output_type": "execute_result"
    }
   ],
   "source": [
    "df.sample(5)"
   ]
  },
  {
   "cell_type": "markdown",
   "id": "040b12f4-9bbc-4bbf-a6df-720e81db7a84",
   "metadata": {},
   "source": [
    "### Movie Release Year range "
   ]
  },
  {
   "cell_type": "code",
   "execution_count": 353,
   "id": "d428b0df-620e-4e95-898a-39c2047496ed",
   "metadata": {},
   "outputs": [
    {
     "name": "stdout",
     "output_type": "stream",
     "text": [
      "Min Year  1925\n",
      "Max Year 2021\n"
     ]
    }
   ],
   "source": [
    "min = df[\"release_year\"].min()\n",
    "max = df[\"release_year\"].max()\n",
    "print(\"Min Year \",min)\n",
    "print(\"Max Year\",max)"
   ]
  },
  {
   "cell_type": "markdown",
   "id": "1229c2dc-534f-43a1-8ae6-8e5a9127895d",
   "metadata": {},
   "source": [
    "### Show Type"
   ]
  },
  {
   "cell_type": "code",
   "execution_count": 354,
   "id": "2b74c6e1-5639-437b-91a1-c64a7577eb7d",
   "metadata": {},
   "outputs": [
    {
     "data": {
      "text/plain": [
       "array(['Movie', 'TV Show'], dtype=object)"
      ]
     },
     "execution_count": 354,
     "metadata": {},
     "output_type": "execute_result"
    }
   ],
   "source": [
    "df[\"type\"].unique()"
   ]
  },
  {
   "cell_type": "markdown",
   "id": "959a9090-95c1-4195-9e50-118689784689",
   "metadata": {},
   "source": [
    "### Ratings"
   ]
  },
  {
   "cell_type": "code",
   "execution_count": 355,
   "id": "bc03923a-bc00-4ff0-938c-b4ef31f04da4",
   "metadata": {},
   "outputs": [
    {
     "data": {
      "text/plain": [
       "array(['PG-13', 'TV-MA', 'PG', 'TV-14', 'TV-PG', 'TV-Y', 'TV-Y7', 'R',\n",
       "       'TV-G', 'G', 'NC-17', '74 min', '84 min', '66 min', 'NR', nan,\n",
       "       'TV-Y7-FV', 'UR'], dtype=object)"
      ]
     },
     "execution_count": 355,
     "metadata": {},
     "output_type": "execute_result"
    }
   ],
   "source": [
    "df[\"rating\"].unique()"
   ]
  },
  {
   "cell_type": "markdown",
   "id": "48333e3b-af4f-4c0f-8152-3d4290fa8ac2",
   "metadata": {},
   "source": [
    "### Updating missing null values in duration with miss-algined values"
   ]
  },
  {
   "cell_type": "code",
   "execution_count": 356,
   "id": "8ad51bad-130d-4f36-98df-22e8021cd1fe",
   "metadata": {},
   "outputs": [
    {
     "data": {
      "text/html": [
       "<div>\n",
       "<style scoped>\n",
       "    .dataframe tbody tr th:only-of-type {\n",
       "        vertical-align: middle;\n",
       "    }\n",
       "\n",
       "    .dataframe tbody tr th {\n",
       "        vertical-align: top;\n",
       "    }\n",
       "\n",
       "    .dataframe thead th {\n",
       "        text-align: right;\n",
       "    }\n",
       "</style>\n",
       "<table border=\"1\" class=\"dataframe\">\n",
       "  <thead>\n",
       "    <tr style=\"text-align: right;\">\n",
       "      <th></th>\n",
       "      <th>show_id</th>\n",
       "      <th>type</th>\n",
       "      <th>title</th>\n",
       "      <th>director</th>\n",
       "      <th>cast</th>\n",
       "      <th>country</th>\n",
       "      <th>date_added</th>\n",
       "      <th>release_year</th>\n",
       "      <th>rating</th>\n",
       "      <th>duration</th>\n",
       "      <th>listed_in</th>\n",
       "      <th>description</th>\n",
       "    </tr>\n",
       "  </thead>\n",
       "  <tbody>\n",
       "    <tr>\n",
       "      <th>5541</th>\n",
       "      <td>s5542</td>\n",
       "      <td>Movie</td>\n",
       "      <td>Louis C.K. 2017</td>\n",
       "      <td>Louis C.K.</td>\n",
       "      <td>Louis C.K.</td>\n",
       "      <td>United States</td>\n",
       "      <td>April 4, 2017</td>\n",
       "      <td>2017</td>\n",
       "      <td>74 min</td>\n",
       "      <td>74 min</td>\n",
       "      <td>Movies</td>\n",
       "      <td>Louis C.K. muses on religion, eternal love, gi...</td>\n",
       "    </tr>\n",
       "    <tr>\n",
       "      <th>5794</th>\n",
       "      <td>s5795</td>\n",
       "      <td>Movie</td>\n",
       "      <td>Louis C.K.: Hilarious</td>\n",
       "      <td>Louis C.K.</td>\n",
       "      <td>Louis C.K.</td>\n",
       "      <td>United States</td>\n",
       "      <td>September 16, 2016</td>\n",
       "      <td>2010</td>\n",
       "      <td>84 min</td>\n",
       "      <td>84 min</td>\n",
       "      <td>Movies</td>\n",
       "      <td>Emmy-winning comedy writer Louis C.K. brings h...</td>\n",
       "    </tr>\n",
       "    <tr>\n",
       "      <th>5813</th>\n",
       "      <td>s5814</td>\n",
       "      <td>Movie</td>\n",
       "      <td>Louis C.K.: Live at the Comedy Store</td>\n",
       "      <td>Louis C.K.</td>\n",
       "      <td>Louis C.K.</td>\n",
       "      <td>United States</td>\n",
       "      <td>August 15, 2016</td>\n",
       "      <td>2015</td>\n",
       "      <td>66 min</td>\n",
       "      <td>66 min</td>\n",
       "      <td>Movies</td>\n",
       "      <td>The comic puts his trademark hilarious/thought...</td>\n",
       "    </tr>\n",
       "  </tbody>\n",
       "</table>\n",
       "</div>"
      ],
      "text/plain": [
       "     show_id   type                                 title    director  \\\n",
       "5541   s5542  Movie                       Louis C.K. 2017  Louis C.K.   \n",
       "5794   s5795  Movie                 Louis C.K.: Hilarious  Louis C.K.   \n",
       "5813   s5814  Movie  Louis C.K.: Live at the Comedy Store  Louis C.K.   \n",
       "\n",
       "            cast        country          date_added  release_year  rating  \\\n",
       "5541  Louis C.K.  United States       April 4, 2017          2017  74 min   \n",
       "5794  Louis C.K.  United States  September 16, 2016          2010  84 min   \n",
       "5813  Louis C.K.  United States     August 15, 2016          2015  66 min   \n",
       "\n",
       "     duration listed_in                                        description  \n",
       "5541   74 min    Movies  Louis C.K. muses on religion, eternal love, gi...  \n",
       "5794   84 min    Movies  Emmy-winning comedy writer Louis C.K. brings h...  \n",
       "5813   66 min    Movies  The comic puts his trademark hilarious/thought...  "
      ]
     },
     "execution_count": 356,
     "metadata": {},
     "output_type": "execute_result"
    }
   ],
   "source": [
    "mask = df[\"duration\"].isnull()\n",
    "df.loc[mask, 'duration'] = df.loc[mask, 'rating']\n",
    "df[df[\"director\"] == \"Louis C.K.\"]\n"
   ]
  },
  {
   "cell_type": "markdown",
   "id": "a94898d5-3616-40c5-949f-dce192a13cf5",
   "metadata": {},
   "source": [
    "### Updating <b>director</b> column null values to \"Unknown Director\""
   ]
  },
  {
   "cell_type": "code",
   "execution_count": 357,
   "id": "aeca6f18-60c1-4713-ab9d-ebac41aab8ce",
   "metadata": {
    "scrolled": true
   },
   "outputs": [
    {
     "data": {
      "text/plain": [
       "director\n",
       "Unknown Director                  2634\n",
       "Rajiv Chilaka                       19\n",
       "Raúl Campos, Jan Suter              18\n",
       "Suhas Kadav                         16\n",
       "Marcus Raboy                        16\n",
       "                                  ... \n",
       "Raymie Muzquiz, Stu Livingston       1\n",
       "Joe Menendez                         1\n",
       "Eric Bross                           1\n",
       "Will Eisenberg                       1\n",
       "Mozez Singh                          1\n",
       "Name: count, Length: 4529, dtype: int64"
      ]
     },
     "execution_count": 357,
     "metadata": {},
     "output_type": "execute_result"
    }
   ],
   "source": [
    "mask = df[\"director\"].isnull()\n",
    "df.loc[mask,\"director\"] = \"Unknown Director\"\n",
    "df[\"director\"].value_counts()"
   ]
  },
  {
   "cell_type": "markdown",
   "id": "0690595c-d2bd-4246-94f1-2cc9f2850c8d",
   "metadata": {},
   "source": [
    "### Updating <b>cast</b> column null values to \"Unknown Actor\""
   ]
  },
  {
   "cell_type": "code",
   "execution_count": 358,
   "id": "dd47f695-5407-4e99-aa62-4924c3d300d7",
   "metadata": {},
   "outputs": [],
   "source": [
    "mask = df[\"cast\"].isnull()\n",
    "df.loc[mask,\"cast\"] = \"Unknown Actor\""
   ]
  },
  {
   "cell_type": "code",
   "execution_count": 359,
   "id": "ce35e320-2cb3-4f71-a575-56b200adbd7e",
   "metadata": {},
   "outputs": [
    {
     "data": {
      "text/plain": [
       "show_id           0\n",
       "type              0\n",
       "title             0\n",
       "director          0\n",
       "cast              0\n",
       "country         831\n",
       "date_added       10\n",
       "release_year      0\n",
       "rating            4\n",
       "duration          0\n",
       "listed_in         0\n",
       "description       0\n",
       "dtype: int64"
      ]
     },
     "execution_count": 359,
     "metadata": {},
     "output_type": "execute_result"
    }
   ],
   "source": [
    "df.isnull().sum()"
   ]
  },
  {
   "cell_type": "code",
   "execution_count": 360,
   "id": "8acdb1d8-b490-4cb9-ba55-a7e36f3d3ed2",
   "metadata": {},
   "outputs": [],
   "source": [
    "mask = df[\"date_added\"].isnull()\n",
    "df.loc[mask,\"date_added\"] = \"June 1, \"+ df.loc[mask,\"release_year\"].astype(str)"
   ]
  },
  {
   "cell_type": "code",
   "execution_count": 361,
   "id": "7c9c7d63-ca6a-4071-a719-0720a3b4d2b4",
   "metadata": {},
   "outputs": [
    {
     "data": {
      "text/plain": [
       "show_id           0\n",
       "type              0\n",
       "title             0\n",
       "director          0\n",
       "cast              0\n",
       "country         831\n",
       "date_added        0\n",
       "release_year      0\n",
       "rating            4\n",
       "duration          0\n",
       "listed_in         0\n",
       "description       0\n",
       "dtype: int64"
      ]
     },
     "execution_count": 361,
     "metadata": {},
     "output_type": "execute_result"
    }
   ],
   "source": [
    "df.isnull().sum()"
   ]
  },
  {
   "cell_type": "markdown",
   "id": "6f431718-1667-4e13-a3c6-f2776971f2b4",
   "metadata": {},
   "source": [
    "### Changing the data type of date_added column"
   ]
  },
  {
   "cell_type": "code",
   "execution_count": 362,
   "id": "cd9e5c5b-91dc-4018-8cb0-c0d46cbefada",
   "metadata": {},
   "outputs": [],
   "source": [
    "df[\"date_added\"] = df[\"date_added\"].str.strip()"
   ]
  },
  {
   "cell_type": "code",
   "execution_count": 363,
   "id": "bc6847d6-d529-4e38-b6e1-364c58e4f969",
   "metadata": {},
   "outputs": [
    {
     "name": "stdout",
     "output_type": "stream",
     "text": [
      "<class 'pandas.core.frame.DataFrame'>\n",
      "RangeIndex: 8807 entries, 0 to 8806\n",
      "Data columns (total 12 columns):\n",
      " #   Column        Non-Null Count  Dtype         \n",
      "---  ------        --------------  -----         \n",
      " 0   show_id       8807 non-null   object        \n",
      " 1   type          8807 non-null   object        \n",
      " 2   title         8807 non-null   object        \n",
      " 3   director      8807 non-null   object        \n",
      " 4   cast          8807 non-null   object        \n",
      " 5   country       7976 non-null   object        \n",
      " 6   date_added    8807 non-null   datetime64[ns]\n",
      " 7   release_year  8807 non-null   int64         \n",
      " 8   rating        8803 non-null   object        \n",
      " 9   duration      8807 non-null   object        \n",
      " 10  listed_in     8807 non-null   object        \n",
      " 11  description   8807 non-null   object        \n",
      "dtypes: datetime64[ns](1), int64(1), object(10)\n",
      "memory usage: 825.8+ KB\n"
     ]
    },
    {
     "name": "stderr",
     "output_type": "stream",
     "text": [
      "C:\\Users\\Madhuri\\AppData\\Local\\Temp\\ipykernel_2004\\208798669.py:1: UserWarning: The argument 'infer_datetime_format' is deprecated and will be removed in a future version. A strict version of it is now the default, see https://pandas.pydata.org/pdeps/0004-consistent-to-datetime-parsing.html. You can safely remove this argument.\n",
      "  df[\"date_added\"] = pd.to_datetime(df[\"date_added\"],infer_datetime_format=True)\n"
     ]
    }
   ],
   "source": [
    "df[\"date_added\"] = pd.to_datetime(df[\"date_added\"],infer_datetime_format=True)\n",
    "df.info()"
   ]
  },
  {
   "cell_type": "code",
   "execution_count": 364,
   "id": "f62a2f22-9a00-4c2e-9f1c-34f2e91cc03c",
   "metadata": {},
   "outputs": [
    {
     "data": {
      "text/plain": [
       "show_id           0\n",
       "type              0\n",
       "title             0\n",
       "director          0\n",
       "cast              0\n",
       "country         831\n",
       "date_added        0\n",
       "release_year      0\n",
       "rating            4\n",
       "duration          0\n",
       "listed_in         0\n",
       "description       0\n",
       "dtype: int64"
      ]
     },
     "execution_count": 364,
     "metadata": {},
     "output_type": "execute_result"
    }
   ],
   "source": [
    "df.isnull().sum()"
   ]
  },
  {
   "cell_type": "code",
   "execution_count": 365,
   "id": "d2615507-f3e6-4645-b74b-b00104849c51",
   "metadata": {},
   "outputs": [
    {
     "data": {
      "text/html": [
       "<div>\n",
       "<style scoped>\n",
       "    .dataframe tbody tr th:only-of-type {\n",
       "        vertical-align: middle;\n",
       "    }\n",
       "\n",
       "    .dataframe tbody tr th {\n",
       "        vertical-align: top;\n",
       "    }\n",
       "\n",
       "    .dataframe thead th {\n",
       "        text-align: right;\n",
       "    }\n",
       "</style>\n",
       "<table border=\"1\" class=\"dataframe\">\n",
       "  <thead>\n",
       "    <tr style=\"text-align: right;\">\n",
       "      <th></th>\n",
       "      <th>show_id</th>\n",
       "      <th>type</th>\n",
       "      <th>title</th>\n",
       "      <th>director</th>\n",
       "      <th>cast</th>\n",
       "      <th>country</th>\n",
       "      <th>date_added</th>\n",
       "      <th>release_year</th>\n",
       "      <th>rating</th>\n",
       "      <th>duration</th>\n",
       "      <th>listed_in</th>\n",
       "      <th>description</th>\n",
       "    </tr>\n",
       "  </thead>\n",
       "  <tbody>\n",
       "    <tr>\n",
       "      <th>0</th>\n",
       "      <td>s1</td>\n",
       "      <td>Movie</td>\n",
       "      <td>Dick Johnson Is Dead</td>\n",
       "      <td>Kirsten Johnson</td>\n",
       "      <td>Unknown Actor</td>\n",
       "      <td>United States</td>\n",
       "      <td>2021-09-25</td>\n",
       "      <td>2020</td>\n",
       "      <td>PG-13</td>\n",
       "      <td>90 min</td>\n",
       "      <td>Documentaries</td>\n",
       "      <td>As her father nears the end of his life, filmm...</td>\n",
       "    </tr>\n",
       "    <tr>\n",
       "      <th>1</th>\n",
       "      <td>s2</td>\n",
       "      <td>TV Show</td>\n",
       "      <td>Blood &amp; Water</td>\n",
       "      <td>Unknown Director</td>\n",
       "      <td>Ama Qamata, Khosi Ngema, Gail Mabalane, Thaban...</td>\n",
       "      <td>South Africa</td>\n",
       "      <td>2021-09-24</td>\n",
       "      <td>2021</td>\n",
       "      <td>TV-MA</td>\n",
       "      <td>2 Seasons</td>\n",
       "      <td>International TV Shows, TV Dramas, TV Mysteries</td>\n",
       "      <td>After crossing paths at a party, a Cape Town t...</td>\n",
       "    </tr>\n",
       "    <tr>\n",
       "      <th>2</th>\n",
       "      <td>s3</td>\n",
       "      <td>TV Show</td>\n",
       "      <td>Ganglands</td>\n",
       "      <td>Julien Leclercq</td>\n",
       "      <td>Sami Bouajila, Tracy Gotoas, Samuel Jouy, Nabi...</td>\n",
       "      <td>NaN</td>\n",
       "      <td>2021-09-24</td>\n",
       "      <td>2021</td>\n",
       "      <td>TV-MA</td>\n",
       "      <td>1 Season</td>\n",
       "      <td>Crime TV Shows, International TV Shows, TV Act...</td>\n",
       "      <td>To protect his family from a powerful drug lor...</td>\n",
       "    </tr>\n",
       "    <tr>\n",
       "      <th>3</th>\n",
       "      <td>s4</td>\n",
       "      <td>TV Show</td>\n",
       "      <td>Jailbirds New Orleans</td>\n",
       "      <td>Unknown Director</td>\n",
       "      <td>Unknown Actor</td>\n",
       "      <td>NaN</td>\n",
       "      <td>2021-09-24</td>\n",
       "      <td>2021</td>\n",
       "      <td>TV-MA</td>\n",
       "      <td>1 Season</td>\n",
       "      <td>Docuseries, Reality TV</td>\n",
       "      <td>Feuds, flirtations and toilet talk go down amo...</td>\n",
       "    </tr>\n",
       "    <tr>\n",
       "      <th>4</th>\n",
       "      <td>s5</td>\n",
       "      <td>TV Show</td>\n",
       "      <td>Kota Factory</td>\n",
       "      <td>Unknown Director</td>\n",
       "      <td>Mayur More, Jitendra Kumar, Ranjan Raj, Alam K...</td>\n",
       "      <td>India</td>\n",
       "      <td>2021-09-24</td>\n",
       "      <td>2021</td>\n",
       "      <td>TV-MA</td>\n",
       "      <td>2 Seasons</td>\n",
       "      <td>International TV Shows, Romantic TV Shows, TV ...</td>\n",
       "      <td>In a city of coaching centers known to train I...</td>\n",
       "    </tr>\n",
       "  </tbody>\n",
       "</table>\n",
       "</div>"
      ],
      "text/plain": [
       "  show_id     type                  title          director  \\\n",
       "0      s1    Movie   Dick Johnson Is Dead   Kirsten Johnson   \n",
       "1      s2  TV Show          Blood & Water  Unknown Director   \n",
       "2      s3  TV Show              Ganglands   Julien Leclercq   \n",
       "3      s4  TV Show  Jailbirds New Orleans  Unknown Director   \n",
       "4      s5  TV Show           Kota Factory  Unknown Director   \n",
       "\n",
       "                                                cast        country  \\\n",
       "0                                      Unknown Actor  United States   \n",
       "1  Ama Qamata, Khosi Ngema, Gail Mabalane, Thaban...   South Africa   \n",
       "2  Sami Bouajila, Tracy Gotoas, Samuel Jouy, Nabi...            NaN   \n",
       "3                                      Unknown Actor            NaN   \n",
       "4  Mayur More, Jitendra Kumar, Ranjan Raj, Alam K...          India   \n",
       "\n",
       "  date_added  release_year rating   duration  \\\n",
       "0 2021-09-25          2020  PG-13     90 min   \n",
       "1 2021-09-24          2021  TV-MA  2 Seasons   \n",
       "2 2021-09-24          2021  TV-MA   1 Season   \n",
       "3 2021-09-24          2021  TV-MA   1 Season   \n",
       "4 2021-09-24          2021  TV-MA  2 Seasons   \n",
       "\n",
       "                                           listed_in  \\\n",
       "0                                      Documentaries   \n",
       "1    International TV Shows, TV Dramas, TV Mysteries   \n",
       "2  Crime TV Shows, International TV Shows, TV Act...   \n",
       "3                             Docuseries, Reality TV   \n",
       "4  International TV Shows, Romantic TV Shows, TV ...   \n",
       "\n",
       "                                         description  \n",
       "0  As her father nears the end of his life, filmm...  \n",
       "1  After crossing paths at a party, a Cape Town t...  \n",
       "2  To protect his family from a powerful drug lor...  \n",
       "3  Feuds, flirtations and toilet talk go down amo...  \n",
       "4  In a city of coaching centers known to train I...  "
      ]
     },
     "execution_count": 365,
     "metadata": {},
     "output_type": "execute_result"
    }
   ],
   "source": [
    "df.head(5)"
   ]
  },
  {
   "cell_type": "markdown",
   "id": "64f2912a-2a33-4004-a50b-7552fe961330",
   "metadata": {},
   "source": [
    "### Clean up the director column"
   ]
  },
  {
   "cell_type": "code",
   "execution_count": 366,
   "id": "935b205c-1abf-4896-a281-fea168ef87e8",
   "metadata": {},
   "outputs": [
    {
     "data": {
      "text/html": [
       "<div>\n",
       "<style scoped>\n",
       "    .dataframe tbody tr th:only-of-type {\n",
       "        vertical-align: middle;\n",
       "    }\n",
       "\n",
       "    .dataframe tbody tr th {\n",
       "        vertical-align: top;\n",
       "    }\n",
       "\n",
       "    .dataframe thead th {\n",
       "        text-align: right;\n",
       "    }\n",
       "</style>\n",
       "<table border=\"1\" class=\"dataframe\">\n",
       "  <thead>\n",
       "    <tr style=\"text-align: right;\">\n",
       "      <th></th>\n",
       "      <th>show_id</th>\n",
       "      <th>director</th>\n",
       "    </tr>\n",
       "  </thead>\n",
       "  <tbody>\n",
       "    <tr>\n",
       "      <th>85</th>\n",
       "      <td>s79</td>\n",
       "      <td>Delhiprasad Deenadayalan</td>\n",
       "    </tr>\n",
       "    <tr>\n",
       "      <th>8290</th>\n",
       "      <td>s7625</td>\n",
       "      <td>Unknown Director</td>\n",
       "    </tr>\n",
       "    <tr>\n",
       "      <th>1532</th>\n",
       "      <td>s1420</td>\n",
       "      <td>Juliet May</td>\n",
       "    </tr>\n",
       "    <tr>\n",
       "      <th>8219</th>\n",
       "      <td>s7559</td>\n",
       "      <td>Heidi Saman</td>\n",
       "    </tr>\n",
       "    <tr>\n",
       "      <th>534</th>\n",
       "      <td>s487</td>\n",
       "      <td>Kevin Munroe</td>\n",
       "    </tr>\n",
       "  </tbody>\n",
       "</table>\n",
       "</div>"
      ],
      "text/plain": [
       "     show_id                  director\n",
       "85       s79  Delhiprasad Deenadayalan\n",
       "8290   s7625          Unknown Director\n",
       "1532   s1420                Juliet May\n",
       "8219   s7559               Heidi Saman\n",
       "534     s487              Kevin Munroe"
      ]
     },
     "execution_count": 366,
     "metadata": {},
     "output_type": "execute_result"
    }
   ],
   "source": [
    "df_dir_holder = pd.DataFrame(df[\"director\"].apply( lambda value: [x.strip() for x in str(value).split(',')]).tolist(),index=df[\"show_id\"])\n",
    "df_dir = df_dir_holder.stack().reset_index()\n",
    "df_dir.drop(\"level_1\",axis = 1 , inplace = True)\n",
    "df_dir.rename(columns = {0:\"director\"},inplace = True)\n",
    "df_dir.sample(5)"
   ]
  },
  {
   "cell_type": "markdown",
   "id": "2538ec39-e143-4209-8ebd-cdf2b4b23a8e",
   "metadata": {},
   "source": [
    "### Clean up the cast column"
   ]
  },
  {
   "cell_type": "code",
   "execution_count": 367,
   "id": "8c010007-2469-47a8-9008-bd0c0ccbef64",
   "metadata": {},
   "outputs": [
    {
     "data": {
      "text/html": [
       "<div>\n",
       "<style scoped>\n",
       "    .dataframe tbody tr th:only-of-type {\n",
       "        vertical-align: middle;\n",
       "    }\n",
       "\n",
       "    .dataframe tbody tr th {\n",
       "        vertical-align: top;\n",
       "    }\n",
       "\n",
       "    .dataframe thead th {\n",
       "        text-align: right;\n",
       "    }\n",
       "</style>\n",
       "<table border=\"1\" class=\"dataframe\">\n",
       "  <thead>\n",
       "    <tr style=\"text-align: right;\">\n",
       "      <th></th>\n",
       "      <th>show_id</th>\n",
       "      <th>cast</th>\n",
       "    </tr>\n",
       "  </thead>\n",
       "  <tbody>\n",
       "    <tr>\n",
       "      <th>38278</th>\n",
       "      <td>s5058</td>\n",
       "      <td>Joanna Vanderham</td>\n",
       "    </tr>\n",
       "    <tr>\n",
       "      <th>47672</th>\n",
       "      <td>s6427</td>\n",
       "      <td>Chafurin</td>\n",
       "    </tr>\n",
       "    <tr>\n",
       "      <th>43786</th>\n",
       "      <td>s5889</td>\n",
       "      <td>Joel de la Fuente</td>\n",
       "    </tr>\n",
       "    <tr>\n",
       "      <th>13972</th>\n",
       "      <td>s1726</td>\n",
       "      <td>Joke Silva</td>\n",
       "    </tr>\n",
       "    <tr>\n",
       "      <th>29100</th>\n",
       "      <td>s3724</td>\n",
       "      <td>Tomokazu Sugita</td>\n",
       "    </tr>\n",
       "  </tbody>\n",
       "</table>\n",
       "</div>"
      ],
      "text/plain": [
       "      show_id               cast\n",
       "38278   s5058   Joanna Vanderham\n",
       "47672   s6427           Chafurin\n",
       "43786   s5889  Joel de la Fuente\n",
       "13972   s1726         Joke Silva\n",
       "29100   s3724    Tomokazu Sugita"
      ]
     },
     "execution_count": 367,
     "metadata": {},
     "output_type": "execute_result"
    }
   ],
   "source": [
    "df_cast_holder = pd.DataFrame(df[\"cast\"].apply( lambda value: [x.strip() for x in str(value).split(',')]).tolist(),index=df[\"show_id\"])\n",
    "df_cast = df_cast_holder.stack().reset_index()\n",
    "df_cast.drop(\"level_1\",axis = 1 , inplace = True)\n",
    "df_cast.rename(columns = {0:\"cast\"},inplace = True)\n",
    "df_cast.sample(5)"
   ]
  },
  {
   "cell_type": "markdown",
   "id": "f2d32c21-10c8-4f0a-96c5-516e07b5dd83",
   "metadata": {},
   "source": [
    "### Clean up the country column"
   ]
  },
  {
   "cell_type": "code",
   "execution_count": 368,
   "id": "3d136b9d-b303-4242-8497-239934e20f81",
   "metadata": {},
   "outputs": [
    {
     "data": {
      "text/html": [
       "<div>\n",
       "<style scoped>\n",
       "    .dataframe tbody tr th:only-of-type {\n",
       "        vertical-align: middle;\n",
       "    }\n",
       "\n",
       "    .dataframe tbody tr th {\n",
       "        vertical-align: top;\n",
       "    }\n",
       "\n",
       "    .dataframe thead th {\n",
       "        text-align: right;\n",
       "    }\n",
       "</style>\n",
       "<table border=\"1\" class=\"dataframe\">\n",
       "  <thead>\n",
       "    <tr style=\"text-align: right;\">\n",
       "      <th></th>\n",
       "      <th>show_id</th>\n",
       "      <th>country</th>\n",
       "    </tr>\n",
       "  </thead>\n",
       "  <tbody>\n",
       "    <tr>\n",
       "      <th>7286</th>\n",
       "      <td>s6102</td>\n",
       "      <td>Unknown</td>\n",
       "    </tr>\n",
       "    <tr>\n",
       "      <th>2014</th>\n",
       "      <td>s1652</td>\n",
       "      <td>Canada</td>\n",
       "    </tr>\n",
       "    <tr>\n",
       "      <th>8477</th>\n",
       "      <td>s7012</td>\n",
       "      <td>Croatia</td>\n",
       "    </tr>\n",
       "    <tr>\n",
       "      <th>8583</th>\n",
       "      <td>s7090</td>\n",
       "      <td>Japan</td>\n",
       "    </tr>\n",
       "    <tr>\n",
       "      <th>7052</th>\n",
       "      <td>s5912</td>\n",
       "      <td>United States</td>\n",
       "    </tr>\n",
       "  </tbody>\n",
       "</table>\n",
       "</div>"
      ],
      "text/plain": [
       "     show_id        country\n",
       "7286   s6102        Unknown\n",
       "2014   s1652         Canada\n",
       "8477   s7012        Croatia\n",
       "8583   s7090          Japan\n",
       "7052   s5912  United States"
      ]
     },
     "execution_count": 368,
     "metadata": {},
     "output_type": "execute_result"
    }
   ],
   "source": [
    "#df_country_holder = pd.DataFrame(df[\"country\"].apply( lambda value: str(value).split(\",\")).tolist(),index=df[\"show_id\"])\n",
    "df_country_holder = pd.DataFrame(df[\"country\"].apply( lambda value: [x.strip() for x in str(value).split(',')]).tolist(),index=df[\"show_id\"])\n",
    "df_country = df_country_holder.stack().reset_index()\n",
    "df_country.drop(\"level_1\",axis = 1 , inplace = True)\n",
    "df_country.rename(columns = {0:\"country\"},inplace = True)\n",
    "df_country['country'].replace(['nan'], ['Unknown'], inplace = True)\n",
    "df_country.sample(5)"
   ]
  },
  {
   "cell_type": "code",
   "execution_count": 369,
   "id": "280be27c-dfca-4af7-92de-d343d43a789f",
   "metadata": {},
   "outputs": [
    {
     "data": {
      "text/plain": [
       "0        United States\n",
       "1         South Africa\n",
       "2              Unknown\n",
       "3              Unknown\n",
       "4                India\n",
       "             ...      \n",
       "10845    United States\n",
       "10846          Unknown\n",
       "10847    United States\n",
       "10848    United States\n",
       "10849            India\n",
       "Name: country, Length: 10850, dtype: object"
      ]
     },
     "execution_count": 369,
     "metadata": {},
     "output_type": "execute_result"
    }
   ],
   "source": [
    "df_country['country']"
   ]
  },
  {
   "cell_type": "markdown",
   "id": "3b805d8e-2d03-4d91-8d7d-1193007f9fa8",
   "metadata": {},
   "source": [
    "### Clean up the Genre column"
   ]
  },
  {
   "cell_type": "code",
   "execution_count": 370,
   "id": "d656a7e3-b316-4522-9908-371425bbd8ea",
   "metadata": {},
   "outputs": [
    {
     "data": {
      "text/html": [
       "<div>\n",
       "<style scoped>\n",
       "    .dataframe tbody tr th:only-of-type {\n",
       "        vertical-align: middle;\n",
       "    }\n",
       "\n",
       "    .dataframe tbody tr th {\n",
       "        vertical-align: top;\n",
       "    }\n",
       "\n",
       "    .dataframe thead th {\n",
       "        text-align: right;\n",
       "    }\n",
       "</style>\n",
       "<table border=\"1\" class=\"dataframe\">\n",
       "  <thead>\n",
       "    <tr style=\"text-align: right;\">\n",
       "      <th></th>\n",
       "      <th>show_id</th>\n",
       "      <th>listed_in</th>\n",
       "    </tr>\n",
       "  </thead>\n",
       "  <tbody>\n",
       "    <tr>\n",
       "      <th>17799</th>\n",
       "      <td>s8099</td>\n",
       "      <td>Romantic Movies</td>\n",
       "    </tr>\n",
       "    <tr>\n",
       "      <th>6108</th>\n",
       "      <td>s2762</td>\n",
       "      <td>International TV Shows</td>\n",
       "    </tr>\n",
       "    <tr>\n",
       "      <th>9123</th>\n",
       "      <td>s4073</td>\n",
       "      <td>International Movies</td>\n",
       "    </tr>\n",
       "    <tr>\n",
       "      <th>7080</th>\n",
       "      <td>s3183</td>\n",
       "      <td>TV Action &amp; Adventure</td>\n",
       "    </tr>\n",
       "    <tr>\n",
       "      <th>2777</th>\n",
       "      <td>s1267</td>\n",
       "      <td>Independent Movies</td>\n",
       "    </tr>\n",
       "  </tbody>\n",
       "</table>\n",
       "</div>"
      ],
      "text/plain": [
       "      show_id               listed_in\n",
       "17799   s8099         Romantic Movies\n",
       "6108    s2762  International TV Shows\n",
       "9123    s4073    International Movies\n",
       "7080    s3183   TV Action & Adventure\n",
       "2777    s1267      Independent Movies"
      ]
     },
     "execution_count": 370,
     "metadata": {},
     "output_type": "execute_result"
    }
   ],
   "source": [
    "df_genre_holder = pd.DataFrame(df[\"listed_in\"].apply( lambda value: [x.strip() for x in str(value).split(',')]).tolist(),index=df[\"show_id\"])\n",
    "df_genre = df_genre_holder.stack().reset_index()\n",
    "df_genre.drop(\"level_1\",axis = 1 , inplace = True)\n",
    "df_genre.rename(columns = {0:\"listed_in\"},inplace = True)\n",
    "df_genre.sample(5)"
   ]
  },
  {
   "cell_type": "markdown",
   "id": "47e68bf7-9985-41f0-a175-4d4c99ed6743",
   "metadata": {},
   "source": [
    "### Merge back to main dataframe - 1"
   ]
  },
  {
   "cell_type": "code",
   "execution_count": 371,
   "id": "d0199a7d-aa28-447f-b2b8-c9ed07768e11",
   "metadata": {},
   "outputs": [
    {
     "data": {
      "text/html": [
       "<div>\n",
       "<style scoped>\n",
       "    .dataframe tbody tr th:only-of-type {\n",
       "        vertical-align: middle;\n",
       "    }\n",
       "\n",
       "    .dataframe tbody tr th {\n",
       "        vertical-align: top;\n",
       "    }\n",
       "\n",
       "    .dataframe thead th {\n",
       "        text-align: right;\n",
       "    }\n",
       "</style>\n",
       "<table border=\"1\" class=\"dataframe\">\n",
       "  <thead>\n",
       "    <tr style=\"text-align: right;\">\n",
       "      <th></th>\n",
       "      <th>show_id</th>\n",
       "      <th>director</th>\n",
       "      <th>cast</th>\n",
       "    </tr>\n",
       "  </thead>\n",
       "  <tbody>\n",
       "    <tr>\n",
       "      <th>33654</th>\n",
       "      <td>s4018</td>\n",
       "      <td>Maryo J. De los Reyes</td>\n",
       "      <td>Dante Rivero</td>\n",
       "    </tr>\n",
       "    <tr>\n",
       "      <th>36805</th>\n",
       "      <td>s4456</td>\n",
       "      <td>Tigmanshu Dhulia</td>\n",
       "      <td>Irrfan Khan</td>\n",
       "    </tr>\n",
       "    <tr>\n",
       "      <th>15404</th>\n",
       "      <td>s1762</td>\n",
       "      <td>Richard Greenberg</td>\n",
       "      <td>Daniel Stern</td>\n",
       "    </tr>\n",
       "    <tr>\n",
       "      <th>65408</th>\n",
       "      <td>s8151</td>\n",
       "      <td>Julien Seri</td>\n",
       "      <td>Fanny Valette</td>\n",
       "    </tr>\n",
       "    <tr>\n",
       "      <th>69942</th>\n",
       "      <td>s8697</td>\n",
       "      <td>Steven Spielberg</td>\n",
       "      <td>Rainer Bock</td>\n",
       "    </tr>\n",
       "  </tbody>\n",
       "</table>\n",
       "</div>"
      ],
      "text/plain": [
       "      show_id               director           cast\n",
       "33654   s4018  Maryo J. De los Reyes   Dante Rivero\n",
       "36805   s4456       Tigmanshu Dhulia    Irrfan Khan\n",
       "15404   s1762      Richard Greenberg   Daniel Stern\n",
       "65408   s8151            Julien Seri  Fanny Valette\n",
       "69942   s8697       Steven Spielberg    Rainer Bock"
      ]
     },
     "execution_count": 371,
     "metadata": {},
     "output_type": "execute_result"
    }
   ],
   "source": [
    "df_merge_1 = df_dir.merge(df_cast,on=\"show_id\",how=\"inner\")\n",
    "df_merge_1.sample(5)"
   ]
  },
  {
   "cell_type": "markdown",
   "id": "ddcb0b1e-4074-4be1-b8d0-be2bf625f02c",
   "metadata": {},
   "source": [
    "### Merge back to main dataframe - 2"
   ]
  },
  {
   "cell_type": "code",
   "execution_count": 372,
   "id": "8dbd01d0-3c37-4325-9139-c82a423e0716",
   "metadata": {},
   "outputs": [
    {
     "data": {
      "text/html": [
       "<div>\n",
       "<style scoped>\n",
       "    .dataframe tbody tr th:only-of-type {\n",
       "        vertical-align: middle;\n",
       "    }\n",
       "\n",
       "    .dataframe tbody tr th {\n",
       "        vertical-align: top;\n",
       "    }\n",
       "\n",
       "    .dataframe thead th {\n",
       "        text-align: right;\n",
       "    }\n",
       "</style>\n",
       "<table border=\"1\" class=\"dataframe\">\n",
       "  <thead>\n",
       "    <tr style=\"text-align: right;\">\n",
       "      <th></th>\n",
       "      <th>show_id</th>\n",
       "      <th>director</th>\n",
       "      <th>cast</th>\n",
       "      <th>country</th>\n",
       "    </tr>\n",
       "  </thead>\n",
       "  <tbody>\n",
       "    <tr>\n",
       "      <th>23128</th>\n",
       "      <td>s2160</td>\n",
       "      <td>Laura Terruso</td>\n",
       "      <td>Jordan Fisher</td>\n",
       "      <td>United States</td>\n",
       "    </tr>\n",
       "    <tr>\n",
       "      <th>63189</th>\n",
       "      <td>s6442</td>\n",
       "      <td>Umer Adil</td>\n",
       "      <td>Syra Shehroz</td>\n",
       "      <td>Pakistan</td>\n",
       "    </tr>\n",
       "    <tr>\n",
       "      <th>35305</th>\n",
       "      <td>s3341</td>\n",
       "      <td>Unknown Director</td>\n",
       "      <td>Yoshimasa Hosoya</td>\n",
       "      <td>Japan</td>\n",
       "    </tr>\n",
       "    <tr>\n",
       "      <th>30794</th>\n",
       "      <td>s2918</td>\n",
       "      <td>Unknown Director</td>\n",
       "      <td>Sheeba Chaddha</td>\n",
       "      <td>India</td>\n",
       "    </tr>\n",
       "    <tr>\n",
       "      <th>12253</th>\n",
       "      <td>s1112</td>\n",
       "      <td>Nick Moore</td>\n",
       "      <td>Linzey Cocker</td>\n",
       "      <td>United States</td>\n",
       "    </tr>\n",
       "  </tbody>\n",
       "</table>\n",
       "</div>"
      ],
      "text/plain": [
       "      show_id          director              cast        country\n",
       "23128   s2160     Laura Terruso     Jordan Fisher  United States\n",
       "63189   s6442         Umer Adil      Syra Shehroz       Pakistan\n",
       "35305   s3341  Unknown Director  Yoshimasa Hosoya          Japan\n",
       "30794   s2918  Unknown Director    Sheeba Chaddha          India\n",
       "12253   s1112        Nick Moore     Linzey Cocker  United States"
      ]
     },
     "execution_count": 372,
     "metadata": {},
     "output_type": "execute_result"
    }
   ],
   "source": [
    "df_merge_2 = df_merge_1.merge(df_country,on=\"show_id\",how=\"inner\")\n",
    "df_merge_2.sample(5)"
   ]
  },
  {
   "cell_type": "markdown",
   "id": "6b3106b6-8d9b-4c2e-870f-766f76ceb89d",
   "metadata": {},
   "source": [
    "### Merge back to main dataframe - 3"
   ]
  },
  {
   "cell_type": "code",
   "execution_count": 373,
   "id": "db3ff96f-61dd-4ffd-b698-74ff0d0e89f9",
   "metadata": {},
   "outputs": [
    {
     "data": {
      "text/html": [
       "<div>\n",
       "<style scoped>\n",
       "    .dataframe tbody tr th:only-of-type {\n",
       "        vertical-align: middle;\n",
       "    }\n",
       "\n",
       "    .dataframe tbody tr th {\n",
       "        vertical-align: top;\n",
       "    }\n",
       "\n",
       "    .dataframe thead th {\n",
       "        text-align: right;\n",
       "    }\n",
       "</style>\n",
       "<table border=\"1\" class=\"dataframe\">\n",
       "  <thead>\n",
       "    <tr style=\"text-align: right;\">\n",
       "      <th></th>\n",
       "      <th>show_id</th>\n",
       "      <th>director</th>\n",
       "      <th>cast</th>\n",
       "      <th>country</th>\n",
       "      <th>listed_in</th>\n",
       "    </tr>\n",
       "  </thead>\n",
       "  <tbody>\n",
       "    <tr>\n",
       "      <th>182871</th>\n",
       "      <td>s8022</td>\n",
       "      <td>Unknown Director</td>\n",
       "      <td>Juan Diego Sánchez</td>\n",
       "      <td>Mexico</td>\n",
       "      <td>Spanish-Language TV Shows</td>\n",
       "    </tr>\n",
       "    <tr>\n",
       "      <th>67238</th>\n",
       "      <td>s2825</td>\n",
       "      <td>Unknown Director</td>\n",
       "      <td>Bergur Ebbi</td>\n",
       "      <td>Iceland</td>\n",
       "      <td>International TV Shows</td>\n",
       "    </tr>\n",
       "    <tr>\n",
       "      <th>38088</th>\n",
       "      <td>s1569</td>\n",
       "      <td>Jun Lana</td>\n",
       "      <td>Eddie Garcia</td>\n",
       "      <td>Philippines</td>\n",
       "      <td>International Movies</td>\n",
       "    </tr>\n",
       "    <tr>\n",
       "      <th>112861</th>\n",
       "      <td>s4874</td>\n",
       "      <td>Robert Vince</td>\n",
       "      <td>David DeLuise</td>\n",
       "      <td>Canada</td>\n",
       "      <td>Music &amp; Musicals</td>\n",
       "    </tr>\n",
       "    <tr>\n",
       "      <th>112837</th>\n",
       "      <td>s4874</td>\n",
       "      <td>Robert Vince</td>\n",
       "      <td>Makenzie Moss</td>\n",
       "      <td>Japan</td>\n",
       "      <td>Music &amp; Musicals</td>\n",
       "    </tr>\n",
       "  </tbody>\n",
       "</table>\n",
       "</div>"
      ],
      "text/plain": [
       "       show_id          director                cast      country  \\\n",
       "182871   s8022  Unknown Director  Juan Diego Sánchez       Mexico   \n",
       "67238    s2825  Unknown Director         Bergur Ebbi      Iceland   \n",
       "38088    s1569          Jun Lana        Eddie Garcia  Philippines   \n",
       "112861   s4874      Robert Vince       David DeLuise       Canada   \n",
       "112837   s4874      Robert Vince       Makenzie Moss        Japan   \n",
       "\n",
       "                        listed_in  \n",
       "182871  Spanish-Language TV Shows  \n",
       "67238      International TV Shows  \n",
       "38088        International Movies  \n",
       "112861           Music & Musicals  \n",
       "112837           Music & Musicals  "
      ]
     },
     "execution_count": 373,
     "metadata": {},
     "output_type": "execute_result"
    }
   ],
   "source": [
    "df_merge_3 = df_merge_2.merge(df_genre,on=\"show_id\",how=\"inner\")\n",
    "df_merge_3.sample(5)"
   ]
  },
  {
   "cell_type": "markdown",
   "id": "fd3cd7b8-dbe1-4dad-9547-41b6d4d8276c",
   "metadata": {},
   "source": [
    "### Merge back to main dataframe - Final"
   ]
  },
  {
   "cell_type": "code",
   "execution_count": 374,
   "id": "3b16d52e-b6d0-4ece-980d-2113fc2e0502",
   "metadata": {},
   "outputs": [
    {
     "data": {
      "text/html": [
       "<div>\n",
       "<style scoped>\n",
       "    .dataframe tbody tr th:only-of-type {\n",
       "        vertical-align: middle;\n",
       "    }\n",
       "\n",
       "    .dataframe tbody tr th {\n",
       "        vertical-align: top;\n",
       "    }\n",
       "\n",
       "    .dataframe thead th {\n",
       "        text-align: right;\n",
       "    }\n",
       "</style>\n",
       "<table border=\"1\" class=\"dataframe\">\n",
       "  <thead>\n",
       "    <tr style=\"text-align: right;\">\n",
       "      <th></th>\n",
       "      <th>show_id</th>\n",
       "      <th>director</th>\n",
       "      <th>cast</th>\n",
       "      <th>country</th>\n",
       "      <th>listed_in</th>\n",
       "      <th>type</th>\n",
       "      <th>title</th>\n",
       "      <th>date_added</th>\n",
       "      <th>release_year</th>\n",
       "      <th>rating</th>\n",
       "      <th>duration</th>\n",
       "      <th>description</th>\n",
       "    </tr>\n",
       "  </thead>\n",
       "  <tbody>\n",
       "    <tr>\n",
       "      <th>189534</th>\n",
       "      <td>s8274</td>\n",
       "      <td>Cecilia Atán</td>\n",
       "      <td>Claudio Rissi</td>\n",
       "      <td>Argentina</td>\n",
       "      <td>Dramas</td>\n",
       "      <td>Movie</td>\n",
       "      <td>The Desert Bride</td>\n",
       "      <td>2018-11-08</td>\n",
       "      <td>2017</td>\n",
       "      <td>TV-14</td>\n",
       "      <td>78 min</td>\n",
       "      <td>While traveling across Argentina to a new job,...</td>\n",
       "    </tr>\n",
       "    <tr>\n",
       "      <th>12058</th>\n",
       "      <td>s493</td>\n",
       "      <td>Scott Speer</td>\n",
       "      <td>Patrick Schwarzenegger</td>\n",
       "      <td>United States</td>\n",
       "      <td>Dramas</td>\n",
       "      <td>Movie</td>\n",
       "      <td>Midnight Sun</td>\n",
       "      <td>2021-07-08</td>\n",
       "      <td>2018</td>\n",
       "      <td>PG-13</td>\n",
       "      <td>91 min</td>\n",
       "      <td>Born with a fatal sensitivity to sunlight, a s...</td>\n",
       "    </tr>\n",
       "    <tr>\n",
       "      <th>150819</th>\n",
       "      <td>s6647</td>\n",
       "      <td>Unknown Director</td>\n",
       "      <td>Liv Hewson</td>\n",
       "      <td>United States</td>\n",
       "      <td>TV Dramas</td>\n",
       "      <td>TV Show</td>\n",
       "      <td>Dramaworld</td>\n",
       "      <td>2016-05-23</td>\n",
       "      <td>2016</td>\n",
       "      <td>TV-14</td>\n",
       "      <td>1 Season</td>\n",
       "      <td>A huge fan of a Korean TV drama is transported...</td>\n",
       "    </tr>\n",
       "    <tr>\n",
       "      <th>117470</th>\n",
       "      <td>s5091</td>\n",
       "      <td>Unknown Director</td>\n",
       "      <td>Tamsin Greig</td>\n",
       "      <td>United States</td>\n",
       "      <td>Classic &amp; Cult TV</td>\n",
       "      <td>TV Show</td>\n",
       "      <td>Episodes</td>\n",
       "      <td>2018-01-06</td>\n",
       "      <td>2017</td>\n",
       "      <td>TV-MA</td>\n",
       "      <td>5 Seasons</td>\n",
       "      <td>Hoping to create an American version of their ...</td>\n",
       "    </tr>\n",
       "    <tr>\n",
       "      <th>189316</th>\n",
       "      <td>s8263</td>\n",
       "      <td>Unknown Director</td>\n",
       "      <td>Robert Clotworthy</td>\n",
       "      <td>United States</td>\n",
       "      <td>Docuseries</td>\n",
       "      <td>TV Show</td>\n",
       "      <td>The Curse of Oak Island</td>\n",
       "      <td>2019-09-15</td>\n",
       "      <td>2016</td>\n",
       "      <td>TV-PG</td>\n",
       "      <td>1 Season</td>\n",
       "      <td>On an ominous island off of Nova Scotia, two b...</td>\n",
       "    </tr>\n",
       "  </tbody>\n",
       "</table>\n",
       "</div>"
      ],
      "text/plain": [
       "       show_id          director                    cast        country  \\\n",
       "189534   s8274      Cecilia Atán           Claudio Rissi      Argentina   \n",
       "12058     s493       Scott Speer  Patrick Schwarzenegger  United States   \n",
       "150819   s6647  Unknown Director              Liv Hewson  United States   \n",
       "117470   s5091  Unknown Director            Tamsin Greig  United States   \n",
       "189316   s8263  Unknown Director       Robert Clotworthy  United States   \n",
       "\n",
       "                listed_in     type                    title date_added  \\\n",
       "189534             Dramas    Movie         The Desert Bride 2018-11-08   \n",
       "12058              Dramas    Movie             Midnight Sun 2021-07-08   \n",
       "150819          TV Dramas  TV Show               Dramaworld 2016-05-23   \n",
       "117470  Classic & Cult TV  TV Show                 Episodes 2018-01-06   \n",
       "189316         Docuseries  TV Show  The Curse of Oak Island 2019-09-15   \n",
       "\n",
       "        release_year rating   duration  \\\n",
       "189534          2017  TV-14     78 min   \n",
       "12058           2018  PG-13     91 min   \n",
       "150819          2016  TV-14   1 Season   \n",
       "117470          2017  TV-MA  5 Seasons   \n",
       "189316          2016  TV-PG   1 Season   \n",
       "\n",
       "                                              description  \n",
       "189534  While traveling across Argentina to a new job,...  \n",
       "12058   Born with a fatal sensitivity to sunlight, a s...  \n",
       "150819  A huge fan of a Korean TV drama is transported...  \n",
       "117470  Hoping to create an American version of their ...  \n",
       "189316  On an ominous island off of Nova Scotia, two b...  "
      ]
     },
     "execution_count": 374,
     "metadata": {},
     "output_type": "execute_result"
    }
   ],
   "source": [
    "df_final_data = df_merge_3.merge(df[['show_id', 'type','title', 'date_added','release_year', 'rating', 'duration',\"description\"]],\n",
    "                                 on=\"show_id\",how=\"inner\")\n",
    "df_final_data.sample(5)"
   ]
  },
  {
   "cell_type": "code",
   "execution_count": 375,
   "id": "e067cd26-4f58-4149-b175-add5b4cce85a",
   "metadata": {},
   "outputs": [
    {
     "data": {
      "text/plain": [
       "(202065, 12)"
      ]
     },
     "execution_count": 375,
     "metadata": {},
     "output_type": "execute_result"
    }
   ],
   "source": [
    "df_final_data.shape"
   ]
  },
  {
   "cell_type": "code",
   "execution_count": 376,
   "id": "a1b8bc19-9bb1-4094-b93c-bae9a6c60d50",
   "metadata": {},
   "outputs": [
    {
     "data": {
      "text/html": [
       "<div>\n",
       "<style scoped>\n",
       "    .dataframe tbody tr th:only-of-type {\n",
       "        vertical-align: middle;\n",
       "    }\n",
       "\n",
       "    .dataframe tbody tr th {\n",
       "        vertical-align: top;\n",
       "    }\n",
       "\n",
       "    .dataframe thead th {\n",
       "        text-align: right;\n",
       "    }\n",
       "</style>\n",
       "<table border=\"1\" class=\"dataframe\">\n",
       "  <thead>\n",
       "    <tr style=\"text-align: right;\">\n",
       "      <th></th>\n",
       "      <th>show_id</th>\n",
       "      <th>director</th>\n",
       "      <th>cast</th>\n",
       "      <th>country</th>\n",
       "      <th>listed_in</th>\n",
       "      <th>type</th>\n",
       "      <th>title</th>\n",
       "      <th>date_added</th>\n",
       "      <th>release_year</th>\n",
       "      <th>rating</th>\n",
       "      <th>duration</th>\n",
       "      <th>description</th>\n",
       "    </tr>\n",
       "  </thead>\n",
       "  <tbody>\n",
       "    <tr>\n",
       "      <th>135172</th>\n",
       "      <td>s5990</td>\n",
       "      <td>Unknown Director</td>\n",
       "      <td>Oprah Winfrey</td>\n",
       "      <td>Unknown</td>\n",
       "      <td>Movies</td>\n",
       "      <td>Movie</td>\n",
       "      <td>13TH: A Conversation with Oprah Winfrey &amp; Ava ...</td>\n",
       "      <td>2017-01-26</td>\n",
       "      <td>2017</td>\n",
       "      <td>NaN</td>\n",
       "      <td>37 min</td>\n",
       "      <td>Oprah Winfrey sits down with director Ava DuVe...</td>\n",
       "    </tr>\n",
       "    <tr>\n",
       "      <th>154427</th>\n",
       "      <td>s6828</td>\n",
       "      <td>Unknown Director</td>\n",
       "      <td>Hisako Kanemoto</td>\n",
       "      <td>Japan</td>\n",
       "      <td>International TV Shows</td>\n",
       "      <td>TV Show</td>\n",
       "      <td>Gargantia on the Verdurous Planet</td>\n",
       "      <td>2016-12-01</td>\n",
       "      <td>2013</td>\n",
       "      <td>NaN</td>\n",
       "      <td>1 Season</td>\n",
       "      <td>After falling through a wormhole, a space-dwel...</td>\n",
       "    </tr>\n",
       "    <tr>\n",
       "      <th>154466</th>\n",
       "      <td>s6828</td>\n",
       "      <td>Unknown Director</td>\n",
       "      <td>Karen Strassman</td>\n",
       "      <td>Japan</td>\n",
       "      <td>Anime Series</td>\n",
       "      <td>TV Show</td>\n",
       "      <td>Gargantia on the Verdurous Planet</td>\n",
       "      <td>2016-12-01</td>\n",
       "      <td>2013</td>\n",
       "      <td>NaN</td>\n",
       "      <td>1 Season</td>\n",
       "      <td>After falling through a wormhole, a space-dwel...</td>\n",
       "    </tr>\n",
       "    <tr>\n",
       "      <th>154461</th>\n",
       "      <td>s6828</td>\n",
       "      <td>Unknown Director</td>\n",
       "      <td>Michelle Ruff</td>\n",
       "      <td>Japan</td>\n",
       "      <td>International TV Shows</td>\n",
       "      <td>TV Show</td>\n",
       "      <td>Gargantia on the Verdurous Planet</td>\n",
       "      <td>2016-12-01</td>\n",
       "      <td>2013</td>\n",
       "      <td>NaN</td>\n",
       "      <td>1 Season</td>\n",
       "      <td>After falling through a wormhole, a space-dwel...</td>\n",
       "    </tr>\n",
       "    <tr>\n",
       "      <th>154444</th>\n",
       "      <td>s6828</td>\n",
       "      <td>Unknown Director</td>\n",
       "      <td>Ayumi Fujimura</td>\n",
       "      <td>Japan</td>\n",
       "      <td>Anime Series</td>\n",
       "      <td>TV Show</td>\n",
       "      <td>Gargantia on the Verdurous Planet</td>\n",
       "      <td>2016-12-01</td>\n",
       "      <td>2013</td>\n",
       "      <td>NaN</td>\n",
       "      <td>1 Season</td>\n",
       "      <td>After falling through a wormhole, a space-dwel...</td>\n",
       "    </tr>\n",
       "  </tbody>\n",
       "</table>\n",
       "</div>"
      ],
      "text/plain": [
       "       show_id          director             cast  country  \\\n",
       "135172   s5990  Unknown Director    Oprah Winfrey  Unknown   \n",
       "154427   s6828  Unknown Director  Hisako Kanemoto    Japan   \n",
       "154466   s6828  Unknown Director  Karen Strassman    Japan   \n",
       "154461   s6828  Unknown Director    Michelle Ruff    Japan   \n",
       "154444   s6828  Unknown Director   Ayumi Fujimura    Japan   \n",
       "\n",
       "                     listed_in     type  \\\n",
       "135172                  Movies    Movie   \n",
       "154427  International TV Shows  TV Show   \n",
       "154466            Anime Series  TV Show   \n",
       "154461  International TV Shows  TV Show   \n",
       "154444            Anime Series  TV Show   \n",
       "\n",
       "                                                    title date_added  \\\n",
       "135172  13TH: A Conversation with Oprah Winfrey & Ava ... 2017-01-26   \n",
       "154427                  Gargantia on the Verdurous Planet 2016-12-01   \n",
       "154466                  Gargantia on the Verdurous Planet 2016-12-01   \n",
       "154461                  Gargantia on the Verdurous Planet 2016-12-01   \n",
       "154444                  Gargantia on the Verdurous Planet 2016-12-01   \n",
       "\n",
       "        release_year rating  duration  \\\n",
       "135172          2017    NaN    37 min   \n",
       "154427          2013    NaN  1 Season   \n",
       "154466          2013    NaN  1 Season   \n",
       "154461          2013    NaN  1 Season   \n",
       "154444          2013    NaN  1 Season   \n",
       "\n",
       "                                              description  \n",
       "135172  Oprah Winfrey sits down with director Ava DuVe...  \n",
       "154427  After falling through a wormhole, a space-dwel...  \n",
       "154466  After falling through a wormhole, a space-dwel...  \n",
       "154461  After falling through a wormhole, a space-dwel...  \n",
       "154444  After falling through a wormhole, a space-dwel...  "
      ]
     },
     "execution_count": 376,
     "metadata": {},
     "output_type": "execute_result"
    }
   ],
   "source": [
    "df_h1 = df_final_data[df_final_data[\"rating\"].isnull()]\n",
    "df_h1.sample(5)"
   ]
  },
  {
   "cell_type": "code",
   "execution_count": 377,
   "id": "72129e52-5116-4973-9553-2902cbc3322b",
   "metadata": {},
   "outputs": [
    {
     "data": {
      "text/html": [
       "<div>\n",
       "<style scoped>\n",
       "    .dataframe tbody tr th:only-of-type {\n",
       "        vertical-align: middle;\n",
       "    }\n",
       "\n",
       "    .dataframe tbody tr th {\n",
       "        vertical-align: top;\n",
       "    }\n",
       "\n",
       "    .dataframe thead th {\n",
       "        text-align: right;\n",
       "    }\n",
       "</style>\n",
       "<table border=\"1\" class=\"dataframe\">\n",
       "  <thead>\n",
       "    <tr style=\"text-align: right;\">\n",
       "      <th></th>\n",
       "      <th>show_id</th>\n",
       "      <th>director</th>\n",
       "      <th>cast</th>\n",
       "      <th>country</th>\n",
       "      <th>listed_in</th>\n",
       "      <th>type</th>\n",
       "      <th>title</th>\n",
       "      <th>date_added</th>\n",
       "      <th>release_year</th>\n",
       "      <th>rating</th>\n",
       "      <th>duration</th>\n",
       "      <th>description</th>\n",
       "    </tr>\n",
       "  </thead>\n",
       "  <tbody>\n",
       "    <tr>\n",
       "      <th>129464</th>\n",
       "      <td>s5676</td>\n",
       "      <td>Unknown Director</td>\n",
       "      <td>Min-jin Jung</td>\n",
       "      <td>South Korea</td>\n",
       "      <td>International TV Shows</td>\n",
       "      <td>TV Show</td>\n",
       "      <td>Miss Panda &amp; Mr. Hedgehog</td>\n",
       "      <td>2016-12-15</td>\n",
       "      <td>2012</td>\n",
       "      <td>TV-PG</td>\n",
       "      <td>1 Season</td>\n",
       "      <td>When a gifted patissier with a gloomy past mee...</td>\n",
       "    </tr>\n",
       "    <tr>\n",
       "      <th>149075</th>\n",
       "      <td>s6581</td>\n",
       "      <td>Tanuj Bhramar</td>\n",
       "      <td>Ekavali Khanna</td>\n",
       "      <td>India</td>\n",
       "      <td>Dramas</td>\n",
       "      <td>Movie</td>\n",
       "      <td>Dear Dad</td>\n",
       "      <td>2019-03-02</td>\n",
       "      <td>2016</td>\n",
       "      <td>TV-14</td>\n",
       "      <td>83 min</td>\n",
       "      <td>A father and son bond on an impromptu road tri...</td>\n",
       "    </tr>\n",
       "    <tr>\n",
       "      <th>54696</th>\n",
       "      <td>s2312</td>\n",
       "      <td>Bruce Beresford</td>\n",
       "      <td>Annabeth Gish</td>\n",
       "      <td>Canada</td>\n",
       "      <td>Thrillers</td>\n",
       "      <td>Movie</td>\n",
       "      <td>Double Jeopardy</td>\n",
       "      <td>2020-07-01</td>\n",
       "      <td>1999</td>\n",
       "      <td>R</td>\n",
       "      <td>105 min</td>\n",
       "      <td>After being framed and serving time for her hu...</td>\n",
       "    </tr>\n",
       "    <tr>\n",
       "      <th>114315</th>\n",
       "      <td>s4942</td>\n",
       "      <td>Unknown Director</td>\n",
       "      <td>Alfred Enoch</td>\n",
       "      <td>Australia</td>\n",
       "      <td>Romantic TV Shows</td>\n",
       "      <td>TV Show</td>\n",
       "      <td>Troy</td>\n",
       "      <td>2018-04-06</td>\n",
       "      <td>2018</td>\n",
       "      <td>TV-MA</td>\n",
       "      <td>1 Season</td>\n",
       "      <td>Searching for the woman promised to him by Aph...</td>\n",
       "    </tr>\n",
       "    <tr>\n",
       "      <th>11260</th>\n",
       "      <td>s461</td>\n",
       "      <td>Chris Buck</td>\n",
       "      <td>Sal Masekela</td>\n",
       "      <td>United States</td>\n",
       "      <td>Children &amp; Family Movies</td>\n",
       "      <td>Movie</td>\n",
       "      <td>Surf's Up</td>\n",
       "      <td>2021-07-15</td>\n",
       "      <td>2007</td>\n",
       "      <td>PG</td>\n",
       "      <td>86 min</td>\n",
       "      <td>This Oscar-nominated animated comedy goes behi...</td>\n",
       "    </tr>\n",
       "    <tr>\n",
       "      <th>34372</th>\n",
       "      <td>s1404</td>\n",
       "      <td>Cris D'Amato</td>\n",
       "      <td>Roberto Bonfim</td>\n",
       "      <td>Brazil</td>\n",
       "      <td>Children &amp; Family Movies</td>\n",
       "      <td>Movie</td>\n",
       "      <td>Double Dad</td>\n",
       "      <td>2021-01-15</td>\n",
       "      <td>2020</td>\n",
       "      <td>TV-G</td>\n",
       "      <td>105 min</td>\n",
       "      <td>While her mom is away, a teen sneaks out of th...</td>\n",
       "    </tr>\n",
       "    <tr>\n",
       "      <th>153679</th>\n",
       "      <td>s6795</td>\n",
       "      <td>Noah Baumbach</td>\n",
       "      <td>Josh Hamilton</td>\n",
       "      <td>United States</td>\n",
       "      <td>Comedies</td>\n",
       "      <td>Movie</td>\n",
       "      <td>Frances Ha</td>\n",
       "      <td>2017-10-01</td>\n",
       "      <td>2012</td>\n",
       "      <td>R</td>\n",
       "      <td>86 min</td>\n",
       "      <td>Determined to make it as a modern dancer in Ne...</td>\n",
       "    </tr>\n",
       "    <tr>\n",
       "      <th>87514</th>\n",
       "      <td>s3664</td>\n",
       "      <td>Unknown Director</td>\n",
       "      <td>Kana Asumi</td>\n",
       "      <td>Japan</td>\n",
       "      <td>International TV Shows</td>\n",
       "      <td>TV Show</td>\n",
       "      <td>Angel Beats!</td>\n",
       "      <td>2019-07-15</td>\n",
       "      <td>2010</td>\n",
       "      <td>TV-PG</td>\n",
       "      <td>1 Season</td>\n",
       "      <td>In a high school that's a way station to the a...</td>\n",
       "    </tr>\n",
       "    <tr>\n",
       "      <th>177644</th>\n",
       "      <td>s7804</td>\n",
       "      <td>Anurag Singh</td>\n",
       "      <td>Pavan Malhotra</td>\n",
       "      <td>India</td>\n",
       "      <td>International Movies</td>\n",
       "      <td>Movie</td>\n",
       "      <td>Punjab 1984</td>\n",
       "      <td>2017-11-01</td>\n",
       "      <td>2014</td>\n",
       "      <td>TV-14</td>\n",
       "      <td>158 min</td>\n",
       "      <td>During a time of political turmoil, a mother g...</td>\n",
       "    </tr>\n",
       "    <tr>\n",
       "      <th>88358</th>\n",
       "      <td>s3714</td>\n",
       "      <td>Sujoy Ghosh</td>\n",
       "      <td>Masood Akhtar</td>\n",
       "      <td>India</td>\n",
       "      <td>Music &amp; Musicals</td>\n",
       "      <td>Movie</td>\n",
       "      <td>Kahaani</td>\n",
       "      <td>2019-06-26</td>\n",
       "      <td>2012</td>\n",
       "      <td>TV-14</td>\n",
       "      <td>122 min</td>\n",
       "      <td>Pregnant and alone in the city of Kolkata, a w...</td>\n",
       "    </tr>\n",
       "  </tbody>\n",
       "</table>\n",
       "</div>"
      ],
      "text/plain": [
       "       show_id          director            cast        country  \\\n",
       "129464   s5676  Unknown Director    Min-jin Jung    South Korea   \n",
       "149075   s6581     Tanuj Bhramar  Ekavali Khanna          India   \n",
       "54696    s2312   Bruce Beresford   Annabeth Gish         Canada   \n",
       "114315   s4942  Unknown Director    Alfred Enoch      Australia   \n",
       "11260     s461        Chris Buck    Sal Masekela  United States   \n",
       "34372    s1404      Cris D'Amato  Roberto Bonfim         Brazil   \n",
       "153679   s6795     Noah Baumbach   Josh Hamilton  United States   \n",
       "87514    s3664  Unknown Director      Kana Asumi          Japan   \n",
       "177644   s7804      Anurag Singh  Pavan Malhotra          India   \n",
       "88358    s3714       Sujoy Ghosh   Masood Akhtar          India   \n",
       "\n",
       "                       listed_in     type                      title  \\\n",
       "129464    International TV Shows  TV Show  Miss Panda & Mr. Hedgehog   \n",
       "149075                    Dramas    Movie                   Dear Dad   \n",
       "54696                  Thrillers    Movie            Double Jeopardy   \n",
       "114315         Romantic TV Shows  TV Show                       Troy   \n",
       "11260   Children & Family Movies    Movie                  Surf's Up   \n",
       "34372   Children & Family Movies    Movie                 Double Dad   \n",
       "153679                  Comedies    Movie                 Frances Ha   \n",
       "87514     International TV Shows  TV Show               Angel Beats!   \n",
       "177644      International Movies    Movie                Punjab 1984   \n",
       "88358           Music & Musicals    Movie                    Kahaani   \n",
       "\n",
       "       date_added  release_year rating  duration  \\\n",
       "129464 2016-12-15          2012  TV-PG  1 Season   \n",
       "149075 2019-03-02          2016  TV-14    83 min   \n",
       "54696  2020-07-01          1999      R   105 min   \n",
       "114315 2018-04-06          2018  TV-MA  1 Season   \n",
       "11260  2021-07-15          2007     PG    86 min   \n",
       "34372  2021-01-15          2020   TV-G   105 min   \n",
       "153679 2017-10-01          2012      R    86 min   \n",
       "87514  2019-07-15          2010  TV-PG  1 Season   \n",
       "177644 2017-11-01          2014  TV-14   158 min   \n",
       "88358  2019-06-26          2012  TV-14   122 min   \n",
       "\n",
       "                                              description  \n",
       "129464  When a gifted patissier with a gloomy past mee...  \n",
       "149075  A father and son bond on an impromptu road tri...  \n",
       "54696   After being framed and serving time for her hu...  \n",
       "114315  Searching for the woman promised to him by Aph...  \n",
       "11260   This Oscar-nominated animated comedy goes behi...  \n",
       "34372   While her mom is away, a teen sneaks out of th...  \n",
       "153679  Determined to make it as a modern dancer in Ne...  \n",
       "87514   In a high school that's a way station to the a...  \n",
       "177644  During a time of political turmoil, a mother g...  \n",
       "88358   Pregnant and alone in the city of Kolkata, a w...  "
      ]
     },
     "execution_count": 377,
     "metadata": {},
     "output_type": "execute_result"
    }
   ],
   "source": [
    "df_final_data = df_final_data.sort_values(\"type\")\n",
    "df_final_data.sample(10)"
   ]
  },
  {
   "cell_type": "code",
   "execution_count": 379,
   "id": "154f29f5-863f-4d1b-9c0a-82279f205688",
   "metadata": {},
   "outputs": [
    {
     "data": {
      "text/plain": [
       "show_id          0\n",
       "director         0\n",
       "cast             0\n",
       "country          0\n",
       "listed_in        0\n",
       "type             0\n",
       "title            0\n",
       "date_added       0\n",
       "release_year     0\n",
       "rating          67\n",
       "duration         0\n",
       "description      0\n",
       "dtype: int64"
      ]
     },
     "execution_count": 379,
     "metadata": {},
     "output_type": "execute_result"
    }
   ],
   "source": [
    "df_final_data.isnull().sum()"
   ]
  },
  {
   "cell_type": "code",
   "execution_count": 380,
   "id": "19f20f53-9384-4448-816d-63538e0da11c",
   "metadata": {},
   "outputs": [
    {
     "name": "stderr",
     "output_type": "stream",
     "text": [
      "C:\\Users\\Madhuri\\AppData\\Local\\Temp\\ipykernel_2004\\1609901970.py:1: FutureWarning: DataFrame.fillna with 'method' is deprecated and will raise in a future version. Use obj.ffill() or obj.bfill() instead.\n",
      "  df_final_data.fillna(method=\"ffill\",inplace = True)\n"
     ]
    },
    {
     "data": {
      "text/plain": [
       "show_id         0\n",
       "director        0\n",
       "cast            0\n",
       "country         0\n",
       "listed_in       0\n",
       "type            0\n",
       "title           0\n",
       "date_added      0\n",
       "release_year    0\n",
       "rating          0\n",
       "duration        0\n",
       "description     0\n",
       "dtype: int64"
      ]
     },
     "execution_count": 380,
     "metadata": {},
     "output_type": "execute_result"
    }
   ],
   "source": [
    "df_final_data.fillna(method=\"ffill\",inplace = True)\n",
    "df_final_data.isnull().sum()"
   ]
  },
  {
   "cell_type": "markdown",
   "id": "d784db6e-02d6-410d-8780-980a43881b29",
   "metadata": {},
   "source": [
    "### Updating country cloumn \"Unknown\" to related values using director or cast columns.\n",
    "### If unable to generate a country using those default value \"Unknown\" will be retained."
   ]
  },
  {
   "cell_type": "code",
   "execution_count": 381,
   "id": "2cf02312-8c9d-41bc-a0c6-f5ea88fd368d",
   "metadata": {},
   "outputs": [],
   "source": [
    "def get_country(lst):\n",
    "    if len(lst) > 0:\n",
    "        return lst[0]\n",
    "    else:\n",
    "        return \"Unknown\""
   ]
  },
  {
   "cell_type": "code",
   "execution_count": 382,
   "id": "2c5c470c-574d-43e3-9115-ba9ecf7a6556",
   "metadata": {},
   "outputs": [],
   "source": [
    "def set_country():\n",
    "    for i,row in df_final_data.iterrows():\n",
    "        country = df_final_data.at[i,\"country\"]\n",
    "        value = \"Unknown\"\n",
    "        if country == value:\n",
    "            dir = df_final_data.at[i,\"director\"]\n",
    "            actor = df_final_data.at[i,\"cast\"]\n",
    "            if dir == \"Unknown Director\" and actor == \"Unknown Actor\":\n",
    "                continue\n",
    "            elif dir != \"Unknown Director\":\n",
    "                lst = df_final_data[df_final_data[\"director\"] == dir][\"country\"].mode().tolist()\n",
    "                value = get_country(lst)\n",
    "            if value == \"Unknown\":\n",
    "                lst = df_final_data[df_final_data[\"cast\"] == actor][\"country\"].mode().tolist()\n",
    "                value = get_country(lst)   \n",
    "            df_final_data.at[i,\"country\"] = value\n",
    "    return \"Update completed\""
   ]
  },
  {
   "cell_type": "code",
   "execution_count": 383,
   "id": "5b241088-2acd-4cc7-a6eb-9e2e9ab35e72",
   "metadata": {},
   "outputs": [
    {
     "data": {
      "text/plain": [
       "'Update completed'"
      ]
     },
     "execution_count": 383,
     "metadata": {},
     "output_type": "execute_result"
    }
   ],
   "source": [
    "set_country()"
   ]
  },
  {
   "cell_type": "markdown",
   "id": "7b939381-762b-4d9d-860c-ef47fc8fcdf7",
   "metadata": {},
   "source": [
    "### Update the rating for misaligned records. Show is about stand  up comedy. This will be part of TV-MA. So updating the same"
   ]
  },
  {
   "cell_type": "code",
   "execution_count": 384,
   "id": "e06f5e2e-4cab-4b41-8747-c14437f46f5a",
   "metadata": {},
   "outputs": [],
   "source": [
    "mask = df_final_data[\"rating\"] == \"74 min\"\n",
    "df_final_data.loc[mask,\"rating\"] = \"TV-MA\""
   ]
  },
  {
   "cell_type": "code",
   "execution_count": 385,
   "id": "2f8ccebc-7584-4e63-9140-4ecd0d0e5a22",
   "metadata": {},
   "outputs": [],
   "source": [
    "mask = df_final_data[\"rating\"] == \"66 min\"\n",
    "df_final_data.loc[mask,\"rating\"] = \"TV-MA\""
   ]
  },
  {
   "cell_type": "code",
   "execution_count": 386,
   "id": "7c01704a-4192-41f5-ae08-c859fd93a5ff",
   "metadata": {},
   "outputs": [],
   "source": [
    "mask = df_final_data[\"rating\"] == \"84 min\"\n",
    "df_final_data.loc[mask,\"rating\"] = \"TV-MA\""
   ]
  },
  {
   "cell_type": "code",
   "execution_count": 387,
   "id": "b3752cde-0ec9-4b7a-8641-495d4f339b2d",
   "metadata": {},
   "outputs": [
    {
     "data": {
      "text/html": [
       "<div>\n",
       "<style scoped>\n",
       "    .dataframe tbody tr th:only-of-type {\n",
       "        vertical-align: middle;\n",
       "    }\n",
       "\n",
       "    .dataframe tbody tr th {\n",
       "        vertical-align: top;\n",
       "    }\n",
       "\n",
       "    .dataframe thead th {\n",
       "        text-align: right;\n",
       "    }\n",
       "</style>\n",
       "<table border=\"1\" class=\"dataframe\">\n",
       "  <thead>\n",
       "    <tr style=\"text-align: right;\">\n",
       "      <th></th>\n",
       "      <th>show_id</th>\n",
       "      <th>director</th>\n",
       "      <th>cast</th>\n",
       "      <th>country</th>\n",
       "      <th>listed_in</th>\n",
       "      <th>type</th>\n",
       "      <th>title</th>\n",
       "      <th>date_added</th>\n",
       "      <th>release_year</th>\n",
       "      <th>rating</th>\n",
       "      <th>duration</th>\n",
       "      <th>description</th>\n",
       "    </tr>\n",
       "  </thead>\n",
       "  <tbody>\n",
       "    <tr>\n",
       "      <th>131782</th>\n",
       "      <td>s5814</td>\n",
       "      <td>Louis C.K.</td>\n",
       "      <td>Louis C.K.</td>\n",
       "      <td>United States</td>\n",
       "      <td>Movies</td>\n",
       "      <td>Movie</td>\n",
       "      <td>Louis C.K.: Live at the Comedy Store</td>\n",
       "      <td>2016-08-15</td>\n",
       "      <td>2015</td>\n",
       "      <td>TV-MA</td>\n",
       "      <td>66 min</td>\n",
       "      <td>The comic puts his trademark hilarious/thought...</td>\n",
       "    </tr>\n",
       "    <tr>\n",
       "      <th>131648</th>\n",
       "      <td>s5795</td>\n",
       "      <td>Louis C.K.</td>\n",
       "      <td>Louis C.K.</td>\n",
       "      <td>United States</td>\n",
       "      <td>Movies</td>\n",
       "      <td>Movie</td>\n",
       "      <td>Louis C.K.: Hilarious</td>\n",
       "      <td>2016-09-16</td>\n",
       "      <td>2010</td>\n",
       "      <td>TV-MA</td>\n",
       "      <td>84 min</td>\n",
       "      <td>Emmy-winning comedy writer Louis C.K. brings h...</td>\n",
       "    </tr>\n",
       "    <tr>\n",
       "      <th>126582</th>\n",
       "      <td>s5542</td>\n",
       "      <td>Louis C.K.</td>\n",
       "      <td>Louis C.K.</td>\n",
       "      <td>United States</td>\n",
       "      <td>Movies</td>\n",
       "      <td>Movie</td>\n",
       "      <td>Louis C.K. 2017</td>\n",
       "      <td>2017-04-04</td>\n",
       "      <td>2017</td>\n",
       "      <td>TV-MA</td>\n",
       "      <td>74 min</td>\n",
       "      <td>Louis C.K. muses on religion, eternal love, gi...</td>\n",
       "    </tr>\n",
       "  </tbody>\n",
       "</table>\n",
       "</div>"
      ],
      "text/plain": [
       "       show_id    director        cast        country listed_in   type  \\\n",
       "131782   s5814  Louis C.K.  Louis C.K.  United States    Movies  Movie   \n",
       "131648   s5795  Louis C.K.  Louis C.K.  United States    Movies  Movie   \n",
       "126582   s5542  Louis C.K.  Louis C.K.  United States    Movies  Movie   \n",
       "\n",
       "                                       title date_added  release_year rating  \\\n",
       "131782  Louis C.K.: Live at the Comedy Store 2016-08-15          2015  TV-MA   \n",
       "131648                 Louis C.K.: Hilarious 2016-09-16          2010  TV-MA   \n",
       "126582                       Louis C.K. 2017 2017-04-04          2017  TV-MA   \n",
       "\n",
       "       duration                                        description  \n",
       "131782   66 min  The comic puts his trademark hilarious/thought...  \n",
       "131648   84 min  Emmy-winning comedy writer Louis C.K. brings h...  \n",
       "126582   74 min  Louis C.K. muses on religion, eternal love, gi...  "
      ]
     },
     "execution_count": 387,
     "metadata": {},
     "output_type": "execute_result"
    }
   ],
   "source": [
    "df_final_data[df_final_data[\"director\"] == \"Louis C.K.\"]"
   ]
  },
  {
   "cell_type": "code",
   "execution_count": 388,
   "id": "df0d0901-80f3-4a5d-a7f3-86e1fba3fe27",
   "metadata": {},
   "outputs": [
    {
     "data": {
      "text/plain": [
       "array(['PG-13', 'TV-MA', 'TV-14', 'TV-PG', 'R', 'TV-Y', 'PG', 'TV-G',\n",
       "       'TV-Y7', 'NR', 'G', 'TV-Y7-FV', 'NC-17', 'UR'], dtype=object)"
      ]
     },
     "execution_count": 388,
     "metadata": {},
     "output_type": "execute_result"
    }
   ],
   "source": [
    "df_final_data[\"rating\"].unique()"
   ]
  },
  {
   "cell_type": "code",
   "execution_count": 389,
   "id": "e9a2528a-8822-485f-847e-a5f2811bc1b4",
   "metadata": {},
   "outputs": [],
   "source": [
    "import matplotlib.pyplot as plt\n",
    "import seaborn as sns"
   ]
  },
  {
   "cell_type": "code",
   "execution_count": 390,
   "id": "8fec8a85-20d4-44b5-bd36-a6c756b72853",
   "metadata": {},
   "outputs": [
    {
     "name": "stdout",
     "output_type": "stream",
     "text": [
      "type\n",
      "Movie      6131\n",
      "TV Show    2676\n",
      "Name: count, dtype: int64\n"
     ]
    },
    {
     "data": {
      "text/html": [
       "<div>\n",
       "<style scoped>\n",
       "    .dataframe tbody tr th:only-of-type {\n",
       "        vertical-align: middle;\n",
       "    }\n",
       "\n",
       "    .dataframe tbody tr th {\n",
       "        vertical-align: top;\n",
       "    }\n",
       "\n",
       "    .dataframe thead th {\n",
       "        text-align: right;\n",
       "    }\n",
       "</style>\n",
       "<table border=\"1\" class=\"dataframe\">\n",
       "  <thead>\n",
       "    <tr style=\"text-align: right;\">\n",
       "      <th></th>\n",
       "      <th>Count</th>\n",
       "      <th>Percentage</th>\n",
       "    </tr>\n",
       "    <tr>\n",
       "      <th>type</th>\n",
       "      <th></th>\n",
       "      <th></th>\n",
       "    </tr>\n",
       "  </thead>\n",
       "  <tbody>\n",
       "    <tr>\n",
       "      <th>Movie</th>\n",
       "      <td>6131</td>\n",
       "      <td>69.62</td>\n",
       "    </tr>\n",
       "    <tr>\n",
       "      <th>TV Show</th>\n",
       "      <td>2676</td>\n",
       "      <td>30.38</td>\n",
       "    </tr>\n",
       "  </tbody>\n",
       "</table>\n",
       "</div>"
      ],
      "text/plain": [
       "         Count  Percentage\n",
       "type                      \n",
       "Movie     6131       69.62\n",
       "TV Show   2676       30.38"
      ]
     },
     "execution_count": 390,
     "metadata": {},
     "output_type": "execute_result"
    }
   ],
   "source": [
    "value_counts = df[\"type\"].value_counts()\n",
    "print(value_counts)\n",
    "percentage_counts = ((value_counts / len(df[\"type\"])) * 100).round(2)\n",
    "result = pd.DataFrame({'Count': value_counts, 'Percentage': percentage_counts})\n",
    "result"
   ]
  },
  {
   "cell_type": "code",
   "execution_count": 391,
   "id": "22bb8d43-722e-4f80-9a01-aa55361ad65e",
   "metadata": {},
   "outputs": [
    {
     "data": {
      "text/html": [
       "<div>\n",
       "<style scoped>\n",
       "    .dataframe tbody tr th:only-of-type {\n",
       "        vertical-align: middle;\n",
       "    }\n",
       "\n",
       "    .dataframe tbody tr th {\n",
       "        vertical-align: top;\n",
       "    }\n",
       "\n",
       "    .dataframe thead th {\n",
       "        text-align: right;\n",
       "    }\n",
       "</style>\n",
       "<table border=\"1\" class=\"dataframe\">\n",
       "  <thead>\n",
       "    <tr style=\"text-align: right;\">\n",
       "      <th></th>\n",
       "      <th>Count</th>\n",
       "      <th>Percentage</th>\n",
       "    </tr>\n",
       "    <tr>\n",
       "      <th>type</th>\n",
       "      <th></th>\n",
       "      <th></th>\n",
       "    </tr>\n",
       "  </thead>\n",
       "  <tbody>\n",
       "    <tr>\n",
       "      <th>Movie</th>\n",
       "      <td>6131</td>\n",
       "      <td>69.62</td>\n",
       "    </tr>\n",
       "    <tr>\n",
       "      <th>TV Show</th>\n",
       "      <td>2676</td>\n",
       "      <td>30.38</td>\n",
       "    </tr>\n",
       "  </tbody>\n",
       "</table>\n",
       "</div>"
      ],
      "text/plain": [
       "         Count  Percentage\n",
       "type                      \n",
       "Movie     6131       69.62\n",
       "TV Show   2676       30.38"
      ]
     },
     "execution_count": 391,
     "metadata": {},
     "output_type": "execute_result"
    }
   ],
   "source": [
    "df_without_duplicate  = df_final_data.drop_duplicates(subset=[\"type\", \"show_id\"])\n",
    "value_counts =df_without_duplicate[\"type\"].value_counts()\n",
    "percentage_counts = ((value_counts / len(df_without_duplicate[\"type\"])) * 100).round(2)\n",
    "result = pd.DataFrame({'Count': value_counts, 'Percentage': percentage_counts})\n",
    "result"
   ]
  },
  {
   "cell_type": "code",
   "execution_count": 392,
   "id": "9863a805-cdba-47d5-8788-d383eda964e3",
   "metadata": {},
   "outputs": [
    {
     "data": {
      "image/png": "[encoded data removed]",
      "text/plain": [
       "<Figure size 640x480 with 1 Axes>"
      ]
     },
     "metadata": {},
     "output_type": "display_data"
    }
   ],
   "source": [
    "plt.pie(result[\"Percentage\"], labels=[\"movie\",\"TV\"], autopct='%1.2f%%')\n",
    "plt.title('Percetnage of Content Type ')\n",
    "plt.show()"
   ]
  },
  {
   "cell_type": "code",
   "execution_count": 393,
   "id": "c1bb9428-27cf-46d0-a2a4-ddc1aacf30f1",
   "metadata": {},
   "outputs": [],
   "source": [
    "df_final_data[\"added_year\"] = pd.DatetimeIndex(df_final_data['date_added']).year"
   ]
  },
  {
   "cell_type": "code",
   "execution_count": 398,
   "id": "03a26bf4-fdec-4bc5-9c6d-55b721da4d97",
   "metadata": {},
   "outputs": [
    {
     "data": {
      "text/plain": [
       "added_year\n",
       "2019    2016\n",
       "2020    1879\n",
       "2018    1650\n",
       "2021    1498\n",
       "2017    1188\n",
       "2016     430\n",
       "2015      84\n",
       "2014      24\n",
       "2011      13\n",
       "2013      12\n",
       "2012       4\n",
       "2008       3\n",
       "2009       2\n",
       "2010       2\n",
       "2003       2\n",
       "Name: count, dtype: int64"
      ]
     },
     "execution_count": 398,
     "metadata": {},
     "output_type": "execute_result"
    }
   ],
   "source": [
    "df_year_values  = df_final_data.drop_duplicates(subset=[\"show_id\"])\n",
    "value_counts =df_year_values[\"added_year\"].value_counts()\n",
    "value_counts"
   ]
  },
  {
   "cell_type": "code",
   "execution_count": 399,
   "id": "e182e58a-7364-4c2f-abfa-88c5f587806f",
   "metadata": {},
   "outputs": [
    {
     "data": {
      "image/png": "[encoded data removed]",
      "text/plain": [
       "<Figure size 640x480 with 1 Axes>"
      ]
     },
     "metadata": {},
     "output_type": "display_data"
    }
   ],
   "source": [
    "value_counts.plot(kind='bar')\n",
    "plt.xlabel('Year')\n",
    "plt.ylabel('Count')\n",
    "plt.title('Show count per year')\n",
    "plt.show()"
   ]
  },
  {
   "cell_type": "code",
   "execution_count": 432,
   "id": "a6524ede-0976-455e-b1a7-26c5f740ccf5",
   "metadata": {},
   "outputs": [
    {
     "data": {
      "image/png": "[encoded data removed]",
      "text/plain": [
       "<Figure size 1000x500 with 1 Axes>"
      ]
     },
     "metadata": {},
     "output_type": "display_data"
    }
   ],
   "source": [
    "plt.figure(figsize=(10, 5))\n",
    "sns.countplot(data=df_year_values , x=\"added_year\", hue=\"type\",order = df_year_values[\"added_year\"].value_counts().index)\n",
    "plt.title(\"Number of Shows Types per Year\")\n",
    "plt.xlabel(\"Year\")\n",
    "plt.ylabel(\"Count\")\n",
    "plt.show()"
   ]
  },
  {
   "cell_type": "code",
   "execution_count": 402,
   "id": "e8b7c07f-7949-4308-85ff-ee0f7402b81a",
   "metadata": {},
   "outputs": [],
   "source": [
    "df_country_values  = df_final_data.drop_duplicates(subset=[\"show_id\",\"country\"])"
   ]
  },
  {
   "cell_type": "code",
   "execution_count": 403,
   "id": "852055b6-414f-44b9-a460-a2f5a3154386",
   "metadata": {},
   "outputs": [
    {
     "data": {
      "image/png": "[encoded data removed]",
      "text/plain": [
       "<Figure size 640x480 with 1 Axes>"
      ]
     },
     "metadata": {},
     "output_type": "display_data"
    }
   ],
   "source": [
    "sns.countplot(data =df_country_values, x=\"country\", order=df_country_values[\"country\"].value_counts().index[0:5], hue=\"type\")\n",
    "plt.title(\"Top 5 countries on Netflix with most content\")\n",
    "plt.xlabel(\"country\")\n",
    "plt.ylabel(\"Count\")\n",
    "plt.show()"
   ]
  },
  {
   "cell_type": "code",
   "execution_count": 457,
   "id": "ec3b7158-fae9-4078-bf31-72b58128007a",
   "metadata": {},
   "outputs": [
    {
     "data": {
      "image/png": "[encoded data removed]",
      "text/plain": [
       "<Figure size 2000x500 with 1 Axes>"
      ]
     },
     "metadata": {},
     "output_type": "display_data"
    }
   ],
   "source": [
    "plt.figure(figsize=(20, 5))\n",
    "sns.countplot(data =df_country_values, x=\"country\", order=df_country_values[\"country\"].value_counts().index[:-20:-1], hue=\"type\")\n",
    "plt.title(\"Bottom 20 countries on Netflix with least content\")\n",
    "plt.xlabel(\"country\")\n",
    "plt.ylabel(\"Count\")\n",
    "plt.show()"
   ]
  },
  {
   "cell_type": "code",
   "execution_count": 415,
   "id": "707be14b-4a1c-451e-81ca-b8991795c8b3",
   "metadata": {},
   "outputs": [
    {
     "data": {
      "image/png": "[encoded data removed]",
      "text/plain": [
       "<Figure size 1000x500 with 1 Axes>"
      ]
     },
     "metadata": {},
     "output_type": "display_data"
    }
   ],
   "source": [
    "plt.figure(figsize=(10, 5))\n",
    "df_genre_values  = df_final_data.drop_duplicates(subset=[\"show_id\",\"listed_in\"])\n",
    "sns.countplot(data =df_genre_values, x=\"listed_in\", order=df_genre_values[\"listed_in\"].value_counts().index[0:5])\n",
    "plt.title(\"Top 5 Genre on Netflix\")\n",
    "plt.xlabel(\"Genre\")\n",
    "plt.ylabel(\"Count\")\n",
    "plt.show()"
   ]
  },
  {
   "cell_type": "code",
   "execution_count": 407,
   "id": "72878e82-17f5-465d-80d5-9fde2f58ae5c",
   "metadata": {},
   "outputs": [],
   "source": [
    "df_rating_values  = df_final_data.drop_duplicates(subset=[\"show_id\",\"rating\"])"
   ]
  },
  {
   "cell_type": "code",
   "execution_count": 417,
   "id": "83a4bf95-3e08-4ce0-9fd5-65baf5aa959a",
   "metadata": {},
   "outputs": [
    {
     "data": {
      "image/png": "[encoded data removed]",
      "text/plain": [
       "<Figure size 640x480 with 1 Axes>"
      ]
     },
     "metadata": {},
     "output_type": "display_data"
    }
   ],
   "source": [
    "sns.countplot(data =df_rating_values, x=\"rating\", order=df_rating_values[\"rating\"].value_counts().index[0:10])\n",
    "plt.title(\"Top 10 Content rating on Netflix\")\n",
    "plt.xlabel(\"Content Rating\")\n",
    "plt.ylabel(\"Count\")\n",
    "plt.show()"
   ]
  },
  {
   "cell_type": "code",
   "execution_count": 418,
   "id": "e0134648-ea79-4992-9a0a-bb9e91e09e87",
   "metadata": {},
   "outputs": [],
   "source": [
    "df_director_values  = df_final_data.drop_duplicates(subset=[\"show_id\",\"director\"])"
   ]
  },
  {
   "cell_type": "code",
   "execution_count": 428,
   "id": "dc0de775-943f-47bc-baba-40dd40e711ed",
   "metadata": {},
   "outputs": [
    {
     "data": {
      "text/plain": [
       "director\n",
       "Unknown Director    2634\n",
       "Rajiv Chilaka         22\n",
       "Jan Suter             21\n",
       "Raúl Campos           19\n",
       "Suhas Kadav           16\n",
       "                    ... \n",
       "James Barr             1\n",
       "Michael Tolajian       1\n",
       "Anurag Singh           1\n",
       "Luis Prieto            1\n",
       "Sharon Grimberg        1\n",
       "Name: count, Length: 4994, dtype: int64"
      ]
     },
     "execution_count": 428,
     "metadata": {},
     "output_type": "execute_result"
    }
   ],
   "source": [
    "value_counts =df_director_values[\"director\"].value_counts()\n",
    "value_counts"
   ]
  },
  {
   "cell_type": "code",
   "execution_count": 424,
   "id": "d0bde4a1-814a-42b4-90d7-7171bf1b34af",
   "metadata": {},
   "outputs": [
    {
     "data": {
      "image/png": "[encoded data removed]",
      "text/plain": [
       "<Figure size 2000x500 with 1 Axes>"
      ]
     },
     "metadata": {},
     "output_type": "display_data"
    }
   ],
   "source": [
    "plt.figure(figsize=(20, 5))\n",
    "sns.countplot(data =df_director_values, x=\"director\", order=df_director_values[\"director\"].value_counts().index[0:10])\n",
    "plt.title(\"Top 10 director on Netflix\")\n",
    "plt.xlabel(\"Top Directors\")\n",
    "plt.ylabel(\"Movie count\")\n",
    "plt.show()"
   ]
  },
  {
   "cell_type": "code",
   "execution_count": 437,
   "id": "91bc08e8-2009-47e0-8a28-b7ddb64efd7a",
   "metadata": {},
   "outputs": [
    {
     "name": "stdout",
     "output_type": "stream",
     "text": [
      "<class 'pandas.core.frame.DataFrame'>\n",
      "Index: 202065 entries, 0 to 166087\n",
      "Data columns (total 13 columns):\n",
      " #   Column        Non-Null Count   Dtype         \n",
      "---  ------        --------------   -----         \n",
      " 0   show_id       202065 non-null  object        \n",
      " 1   director      202065 non-null  object        \n",
      " 2   cast          202065 non-null  object        \n",
      " 3   country       202065 non-null  object        \n",
      " 4   listed_in     202065 non-null  object        \n",
      " 5   type          202065 non-null  object        \n",
      " 6   title         202065 non-null  object        \n",
      " 7   date_added    202065 non-null  datetime64[ns]\n",
      " 8   release_year  202065 non-null  int64         \n",
      " 9   rating        202065 non-null  object        \n",
      " 10  duration      202065 non-null  object        \n",
      " 11  description   202065 non-null  object        \n",
      " 12  added_year    202065 non-null  int32         \n",
      "dtypes: datetime64[ns](1), int32(1), int64(1), object(10)\n",
      "memory usage: 28.9+ MB\n"
     ]
    }
   ],
   "source": [
    "df_final_data.info()"
   ]
  },
  {
   "cell_type": "markdown",
   "id": "f1e2a7ea-991e-419b-80bb-98e98897682f",
   "metadata": {},
   "source": [
    "### Check difference between content release year and content onboarding to netflix"
   ]
  },
  {
   "cell_type": "code",
   "execution_count": 444,
   "id": "cbfd52ac-e063-4ccc-bd1f-deb52960457a",
   "metadata": {},
   "outputs": [],
   "source": [
    "dr_year_diff  = df_final_data.drop_duplicates(subset=[\"show_id\"])"
   ]
  },
  {
   "cell_type": "code",
   "execution_count": 455,
   "id": "bd7c6e29-7601-409e-b89c-c8ef31bd7c22",
   "metadata": {},
   "outputs": [
    {
     "data": {
      "text/html": [
       "<div>\n",
       "<style scoped>\n",
       "    .dataframe tbody tr th:only-of-type {\n",
       "        vertical-align: middle;\n",
       "    }\n",
       "\n",
       "    .dataframe tbody tr th {\n",
       "        vertical-align: top;\n",
       "    }\n",
       "\n",
       "    .dataframe thead th {\n",
       "        text-align: right;\n",
       "    }\n",
       "</style>\n",
       "<table border=\"1\" class=\"dataframe\">\n",
       "  <thead>\n",
       "    <tr style=\"text-align: right;\">\n",
       "      <th></th>\n",
       "      <th>show_id</th>\n",
       "      <th>director</th>\n",
       "      <th>cast</th>\n",
       "      <th>country</th>\n",
       "      <th>listed_in</th>\n",
       "      <th>type</th>\n",
       "      <th>title</th>\n",
       "      <th>date_added</th>\n",
       "      <th>release_year</th>\n",
       "      <th>rating</th>\n",
       "      <th>duration</th>\n",
       "      <th>description</th>\n",
       "      <th>added_year</th>\n",
       "      <th>content_onboard_diff</th>\n",
       "    </tr>\n",
       "  </thead>\n",
       "  <tbody>\n",
       "    <tr>\n",
       "      <th>99245</th>\n",
       "      <td>s4251</td>\n",
       "      <td>Unknown Director</td>\n",
       "      <td>Unknown Actor</td>\n",
       "      <td>Unknown</td>\n",
       "      <td>TV Shows</td>\n",
       "      <td>TV Show</td>\n",
       "      <td>Pioneers: First Women Filmmakers*</td>\n",
       "      <td>2018-12-30</td>\n",
       "      <td>1925</td>\n",
       "      <td>TV-14</td>\n",
       "      <td>1 Season</td>\n",
       "      <td>This collection restores films from women who ...</td>\n",
       "      <td>2018</td>\n",
       "      <td>93</td>\n",
       "    </tr>\n",
       "    <tr>\n",
       "      <th>32601</th>\n",
       "      <td>s1332</td>\n",
       "      <td>Unknown Director</td>\n",
       "      <td>Unknown Actor</td>\n",
       "      <td>United States</td>\n",
       "      <td>TV Shows</td>\n",
       "      <td>TV Show</td>\n",
       "      <td>Five Came Back: The Reference Films</td>\n",
       "      <td>2021-02-09</td>\n",
       "      <td>1945</td>\n",
       "      <td>TV-MA</td>\n",
       "      <td>1 Season</td>\n",
       "      <td>This collection includes 12 World War II-era p...</td>\n",
       "      <td>2021</td>\n",
       "      <td>76</td>\n",
       "    </tr>\n",
       "    <tr>\n",
       "      <th>187540</th>\n",
       "      <td>s8206</td>\n",
       "      <td>John Ford</td>\n",
       "      <td>Henry Fonda</td>\n",
       "      <td>United States</td>\n",
       "      <td>Classic Movies</td>\n",
       "      <td>Movie</td>\n",
       "      <td>The Battle of Midway</td>\n",
       "      <td>2017-03-31</td>\n",
       "      <td>1942</td>\n",
       "      <td>TV-14</td>\n",
       "      <td>18 min</td>\n",
       "      <td>Director John Ford captures combat footage of ...</td>\n",
       "      <td>2017</td>\n",
       "      <td>75</td>\n",
       "    </tr>\n",
       "    <tr>\n",
       "      <th>177451</th>\n",
       "      <td>s7791</td>\n",
       "      <td>Frank Capra</td>\n",
       "      <td>Unknown Actor</td>\n",
       "      <td>United States</td>\n",
       "      <td>Classic Movies</td>\n",
       "      <td>Movie</td>\n",
       "      <td>Prelude to War</td>\n",
       "      <td>2017-03-31</td>\n",
       "      <td>1942</td>\n",
       "      <td>TV-14</td>\n",
       "      <td>52 min</td>\n",
       "      <td>Frank Capra's documentary chronicles the rise ...</td>\n",
       "      <td>2017</td>\n",
       "      <td>75</td>\n",
       "    </tr>\n",
       "    <tr>\n",
       "      <th>198731</th>\n",
       "      <td>s8661</td>\n",
       "      <td>John Ford</td>\n",
       "      <td>Unknown Actor</td>\n",
       "      <td>United States</td>\n",
       "      <td>Classic Movies</td>\n",
       "      <td>Movie</td>\n",
       "      <td>Undercover: How to Operate Behind Enemy Lines</td>\n",
       "      <td>2017-03-31</td>\n",
       "      <td>1943</td>\n",
       "      <td>TV-PG</td>\n",
       "      <td>61 min</td>\n",
       "      <td>This World War II-era training film dramatizes...</td>\n",
       "      <td>2017</td>\n",
       "      <td>74</td>\n",
       "    </tr>\n",
       "    <tr>\n",
       "      <th>200898</th>\n",
       "      <td>s8764</td>\n",
       "      <td>John Huston</td>\n",
       "      <td>Unknown Actor</td>\n",
       "      <td>United States</td>\n",
       "      <td>Documentaries</td>\n",
       "      <td>Movie</td>\n",
       "      <td>WWII: Report from the Aleutians</td>\n",
       "      <td>2017-03-31</td>\n",
       "      <td>1943</td>\n",
       "      <td>TV-PG</td>\n",
       "      <td>45 min</td>\n",
       "      <td>Filmmaker John Huston narrates this Oscar-nomi...</td>\n",
       "      <td>2017</td>\n",
       "      <td>74</td>\n",
       "    </tr>\n",
       "    <tr>\n",
       "      <th>200463</th>\n",
       "      <td>s8740</td>\n",
       "      <td>Frank Capra</td>\n",
       "      <td>Unknown Actor</td>\n",
       "      <td>United States</td>\n",
       "      <td>Documentaries</td>\n",
       "      <td>Movie</td>\n",
       "      <td>Why We Fight: The Battle of Russia</td>\n",
       "      <td>2017-03-31</td>\n",
       "      <td>1943</td>\n",
       "      <td>TV-PG</td>\n",
       "      <td>82 min</td>\n",
       "      <td>This installment of Frank Capra's acclaimed do...</td>\n",
       "      <td>2017</td>\n",
       "      <td>74</td>\n",
       "    </tr>\n",
       "    <tr>\n",
       "      <th>198259</th>\n",
       "      <td>s8641</td>\n",
       "      <td>Roy Boulting</td>\n",
       "      <td>Burgess Meredith</td>\n",
       "      <td>United States</td>\n",
       "      <td>Documentaries</td>\n",
       "      <td>Movie</td>\n",
       "      <td>Tunisian Victory</td>\n",
       "      <td>2017-03-31</td>\n",
       "      <td>1944</td>\n",
       "      <td>TV-14</td>\n",
       "      <td>76 min</td>\n",
       "      <td>British and American troops join forces to lib...</td>\n",
       "      <td>2017</td>\n",
       "      <td>73</td>\n",
       "    </tr>\n",
       "    <tr>\n",
       "      <th>193339</th>\n",
       "      <td>s8420</td>\n",
       "      <td>William Wyler</td>\n",
       "      <td>Unknown Actor</td>\n",
       "      <td>United States</td>\n",
       "      <td>Documentaries</td>\n",
       "      <td>Movie</td>\n",
       "      <td>The Memphis Belle: A Story of a\\nFlying Fortress</td>\n",
       "      <td>2017-03-31</td>\n",
       "      <td>1944</td>\n",
       "      <td>TV-PG</td>\n",
       "      <td>40 min</td>\n",
       "      <td>This documentary centers on the crew of the B-...</td>\n",
       "      <td>2017</td>\n",
       "      <td>73</td>\n",
       "    </tr>\n",
       "    <tr>\n",
       "      <th>193621</th>\n",
       "      <td>s8437</td>\n",
       "      <td>Stuart Heisler</td>\n",
       "      <td>Unknown Actor</td>\n",
       "      <td>United States</td>\n",
       "      <td>Classic Movies</td>\n",
       "      <td>Movie</td>\n",
       "      <td>The Negro Soldier</td>\n",
       "      <td>2017-03-31</td>\n",
       "      <td>1944</td>\n",
       "      <td>TV-14</td>\n",
       "      <td>40 min</td>\n",
       "      <td>This documentary urged African Americans to en...</td>\n",
       "      <td>2017</td>\n",
       "      <td>73</td>\n",
       "    </tr>\n",
       "  </tbody>\n",
       "</table>\n",
       "</div>"
      ],
      "text/plain": [
       "       show_id          director              cast        country  \\\n",
       "99245    s4251  Unknown Director     Unknown Actor        Unknown   \n",
       "32601    s1332  Unknown Director     Unknown Actor  United States   \n",
       "187540   s8206         John Ford       Henry Fonda  United States   \n",
       "177451   s7791       Frank Capra     Unknown Actor  United States   \n",
       "198731   s8661         John Ford     Unknown Actor  United States   \n",
       "200898   s8764       John Huston     Unknown Actor  United States   \n",
       "200463   s8740       Frank Capra     Unknown Actor  United States   \n",
       "198259   s8641      Roy Boulting  Burgess Meredith  United States   \n",
       "193339   s8420     William Wyler     Unknown Actor  United States   \n",
       "193621   s8437    Stuart Heisler     Unknown Actor  United States   \n",
       "\n",
       "             listed_in     type  \\\n",
       "99245         TV Shows  TV Show   \n",
       "32601         TV Shows  TV Show   \n",
       "187540  Classic Movies    Movie   \n",
       "177451  Classic Movies    Movie   \n",
       "198731  Classic Movies    Movie   \n",
       "200898   Documentaries    Movie   \n",
       "200463   Documentaries    Movie   \n",
       "198259   Documentaries    Movie   \n",
       "193339   Documentaries    Movie   \n",
       "193621  Classic Movies    Movie   \n",
       "\n",
       "                                                   title date_added  \\\n",
       "99245                  Pioneers: First Women Filmmakers* 2018-12-30   \n",
       "32601                Five Came Back: The Reference Films 2021-02-09   \n",
       "187540                              The Battle of Midway 2017-03-31   \n",
       "177451                                    Prelude to War 2017-03-31   \n",
       "198731     Undercover: How to Operate Behind Enemy Lines 2017-03-31   \n",
       "200898                   WWII: Report from the Aleutians 2017-03-31   \n",
       "200463                Why We Fight: The Battle of Russia 2017-03-31   \n",
       "198259                                  Tunisian Victory 2017-03-31   \n",
       "193339  The Memphis Belle: A Story of a\\nFlying Fortress 2017-03-31   \n",
       "193621                                 The Negro Soldier 2017-03-31   \n",
       "\n",
       "        release_year rating  duration  \\\n",
       "99245           1925  TV-14  1 Season   \n",
       "32601           1945  TV-MA  1 Season   \n",
       "187540          1942  TV-14    18 min   \n",
       "177451          1942  TV-14    52 min   \n",
       "198731          1943  TV-PG    61 min   \n",
       "200898          1943  TV-PG    45 min   \n",
       "200463          1943  TV-PG    82 min   \n",
       "198259          1944  TV-14    76 min   \n",
       "193339          1944  TV-PG    40 min   \n",
       "193621          1944  TV-14    40 min   \n",
       "\n",
       "                                              description  added_year  \\\n",
       "99245   This collection restores films from women who ...        2018   \n",
       "32601   This collection includes 12 World War II-era p...        2021   \n",
       "187540  Director John Ford captures combat footage of ...        2017   \n",
       "177451  Frank Capra's documentary chronicles the rise ...        2017   \n",
       "198731  This World War II-era training film dramatizes...        2017   \n",
       "200898  Filmmaker John Huston narrates this Oscar-nomi...        2017   \n",
       "200463  This installment of Frank Capra's acclaimed do...        2017   \n",
       "198259  British and American troops join forces to lib...        2017   \n",
       "193339  This documentary centers on the crew of the B-...        2017   \n",
       "193621  This documentary urged African Americans to en...        2017   \n",
       "\n",
       "        content_onboard_diff  \n",
       "99245                     93  \n",
       "32601                     76  \n",
       "187540                    75  \n",
       "177451                    75  \n",
       "198731                    74  \n",
       "200898                    74  \n",
       "200463                    74  \n",
       "198259                    73  \n",
       "193339                    73  \n",
       "193621                    73  "
      ]
     },
     "execution_count": 455,
     "metadata": {},
     "output_type": "execute_result"
    }
   ],
   "source": [
    "dr_year_diff.nlargest(10,\"content_onboard_diff\")"
   ]
  },
  {
   "cell_type": "markdown",
   "id": "22d6bb7f-d0c7-4eeb-80a8-f0efde2290a6",
   "metadata": {},
   "source": [
    "## Summary: \n",
    "### There are more movies than TV series both growing from 2015. 70% of the content are Movies and the rest are TV shows\n",
    "### Countries like USA,India and UK has the most number of content on Netflix.\n",
    "### Genre like International Movies,Drama are the highest content type on Netflix.\n",
    "### Mature Content , 14 year and above are most content on Netflix.\n",
    "### Rajiv Chilaka and Jan suter are the top directors on netflix.\n",
    "\n",
    "## Suggestion:\n",
    "### There are more than 20 countries who has very little content. By increasing the content we can onboard more users and retain them as well.\n",
    "### The difference between movie content and TV show are growing.It will be easy to retain a User if there are more TV shows across all the genre.\n",
    "### There are lots of missing values like director , country where the content was added. If we can reduce these unknown the better we can analyse.\n",
    "### The duration from the content released and added onto netflix should be reduced so that it can help in user retention."
   ]
  },
  {
   "cell_type": "code",
   "execution_count": null,
   "id": "628c6e71-d0ed-4845-a907-48628979c45f",
   "metadata": {},
   "outputs": [],
   "source": []
  }
 ],
 "metadata": {
  "kernelspec": {
   "display_name": "Python 3 (ipykernel)",
   "language": "python",
   "name": "python3"
  },
  "language_info": {
   "codemirror_mode": {
    "name": "ipython",
    "version": 3
   },
   "file_extension": ".py",
   "mimetype": "text/x-python",
   "name": "python",
   "nbconvert_exporter": "python",
   "pygments_lexer": "ipython3",
   "version": "3.11.7"
  }
 },
 "nbformat": 4,
 "nbformat_minor": 5
}
