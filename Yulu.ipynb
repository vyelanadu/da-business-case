{
 "cells": [
  {
   "cell_type": "code",
   "execution_count": 2,
   "id": "011515f6",
   "metadata": {},
   "outputs": [],
   "source": [
    "import numpy as np\n",
    "import pandas as pd \n",
    "import matplotlib.pyplot as plt \n",
    "import seaborn as sns\n",
    "from scipy.stats import ttest_ind\n",
    "from scipy.stats import f_oneway\n",
    "from scipy.stats import kruskal\n",
    "from scipy.stats import shapiro\n",
    "from scipy.stats import chi2_contingency"
   ]
  },
  {
   "cell_type": "code",
   "execution_count": 3,
   "id": "a417ee34",
   "metadata": {},
   "outputs": [],
   "source": [
    "df = pd.read_csv(\"C:/Users/Madhuri/Desktop/DS-ML/testing/data/bike_sharing.csv\")"
   ]
  },
  {
   "cell_type": "code",
   "execution_count": 4,
   "id": "ba67d2d9",
   "metadata": {},
   "outputs": [
    {
     "data": {
      "text/plain": [
       "(10886, 12)"
      ]
     },
     "execution_count": 4,
     "metadata": {},
     "output_type": "execute_result"
    }
   ],
   "source": [
    "df.shape"
   ]
  },
  {
   "cell_type": "code",
   "execution_count": 5,
   "id": "ab054cba",
   "metadata": {},
   "outputs": [
    {
     "data": {
      "text/html": [
       "<div>\n",
       "<style scoped>\n",
       "    .dataframe tbody tr th:only-of-type {\n",
       "        vertical-align: middle;\n",
       "    }\n",
       "\n",
       "    .dataframe tbody tr th {\n",
       "        vertical-align: top;\n",
       "    }\n",
       "\n",
       "    .dataframe thead th {\n",
       "        text-align: right;\n",
       "    }\n",
       "</style>\n",
       "<table border=\"1\" class=\"dataframe\">\n",
       "  <thead>\n",
       "    <tr style=\"text-align: right;\">\n",
       "      <th></th>\n",
       "      <th>datetime</th>\n",
       "      <th>season</th>\n",
       "      <th>holiday</th>\n",
       "      <th>workingday</th>\n",
       "      <th>weather</th>\n",
       "      <th>temp</th>\n",
       "      <th>atemp</th>\n",
       "      <th>humidity</th>\n",
       "      <th>windspeed</th>\n",
       "      <th>casual</th>\n",
       "      <th>registered</th>\n",
       "      <th>count</th>\n",
       "    </tr>\n",
       "  </thead>\n",
       "  <tbody>\n",
       "    <tr>\n",
       "      <th>5113</th>\n",
       "      <td>2011-12-07 03:00:00</td>\n",
       "      <td>4</td>\n",
       "      <td>0</td>\n",
       "      <td>1</td>\n",
       "      <td>3</td>\n",
       "      <td>18.86</td>\n",
       "      <td>22.725</td>\n",
       "      <td>100</td>\n",
       "      <td>15.0013</td>\n",
       "      <td>0</td>\n",
       "      <td>3</td>\n",
       "      <td>3</td>\n",
       "    </tr>\n",
       "    <tr>\n",
       "      <th>7337</th>\n",
       "      <td>2012-05-05 02:00:00</td>\n",
       "      <td>2</td>\n",
       "      <td>0</td>\n",
       "      <td>0</td>\n",
       "      <td>1</td>\n",
       "      <td>23.78</td>\n",
       "      <td>27.275</td>\n",
       "      <td>88</td>\n",
       "      <td>0.0000</td>\n",
       "      <td>24</td>\n",
       "      <td>51</td>\n",
       "      <td>75</td>\n",
       "    </tr>\n",
       "    <tr>\n",
       "      <th>10356</th>\n",
       "      <td>2012-11-16 22:00:00</td>\n",
       "      <td>4</td>\n",
       "      <td>0</td>\n",
       "      <td>1</td>\n",
       "      <td>1</td>\n",
       "      <td>13.12</td>\n",
       "      <td>15.150</td>\n",
       "      <td>53</td>\n",
       "      <td>16.9979</td>\n",
       "      <td>23</td>\n",
       "      <td>139</td>\n",
       "      <td>162</td>\n",
       "    </tr>\n",
       "    <tr>\n",
       "      <th>6128</th>\n",
       "      <td>2012-02-11 14:00:00</td>\n",
       "      <td>1</td>\n",
       "      <td>0</td>\n",
       "      <td>0</td>\n",
       "      <td>2</td>\n",
       "      <td>10.66</td>\n",
       "      <td>12.120</td>\n",
       "      <td>81</td>\n",
       "      <td>16.9979</td>\n",
       "      <td>38</td>\n",
       "      <td>205</td>\n",
       "      <td>243</td>\n",
       "    </tr>\n",
       "    <tr>\n",
       "      <th>3176</th>\n",
       "      <td>2011-08-02 06:00:00</td>\n",
       "      <td>3</td>\n",
       "      <td>0</td>\n",
       "      <td>1</td>\n",
       "      <td>1</td>\n",
       "      <td>27.88</td>\n",
       "      <td>31.820</td>\n",
       "      <td>69</td>\n",
       "      <td>7.0015</td>\n",
       "      <td>12</td>\n",
       "      <td>105</td>\n",
       "      <td>117</td>\n",
       "    </tr>\n",
       "    <tr>\n",
       "      <th>10367</th>\n",
       "      <td>2012-11-17 09:00:00</td>\n",
       "      <td>4</td>\n",
       "      <td>0</td>\n",
       "      <td>0</td>\n",
       "      <td>1</td>\n",
       "      <td>13.94</td>\n",
       "      <td>15.910</td>\n",
       "      <td>49</td>\n",
       "      <td>15.0013</td>\n",
       "      <td>48</td>\n",
       "      <td>200</td>\n",
       "      <td>248</td>\n",
       "    </tr>\n",
       "    <tr>\n",
       "      <th>10224</th>\n",
       "      <td>2012-11-11 10:00:00</td>\n",
       "      <td>4</td>\n",
       "      <td>0</td>\n",
       "      <td>0</td>\n",
       "      <td>1</td>\n",
       "      <td>16.40</td>\n",
       "      <td>20.455</td>\n",
       "      <td>69</td>\n",
       "      <td>7.0015</td>\n",
       "      <td>133</td>\n",
       "      <td>272</td>\n",
       "      <td>405</td>\n",
       "    </tr>\n",
       "    <tr>\n",
       "      <th>2491</th>\n",
       "      <td>2011-06-11 17:00:00</td>\n",
       "      <td>2</td>\n",
       "      <td>0</td>\n",
       "      <td>0</td>\n",
       "      <td>2</td>\n",
       "      <td>30.34</td>\n",
       "      <td>34.090</td>\n",
       "      <td>58</td>\n",
       "      <td>11.0014</td>\n",
       "      <td>147</td>\n",
       "      <td>190</td>\n",
       "      <td>337</td>\n",
       "    </tr>\n",
       "    <tr>\n",
       "      <th>1951</th>\n",
       "      <td>2011-05-08 05:00:00</td>\n",
       "      <td>2</td>\n",
       "      <td>0</td>\n",
       "      <td>0</td>\n",
       "      <td>2</td>\n",
       "      <td>18.04</td>\n",
       "      <td>21.970</td>\n",
       "      <td>77</td>\n",
       "      <td>0.0000</td>\n",
       "      <td>0</td>\n",
       "      <td>5</td>\n",
       "      <td>5</td>\n",
       "    </tr>\n",
       "    <tr>\n",
       "      <th>5549</th>\n",
       "      <td>2012-01-06 08:00:00</td>\n",
       "      <td>1</td>\n",
       "      <td>0</td>\n",
       "      <td>1</td>\n",
       "      <td>1</td>\n",
       "      <td>9.84</td>\n",
       "      <td>12.120</td>\n",
       "      <td>70</td>\n",
       "      <td>8.9981</td>\n",
       "      <td>11</td>\n",
       "      <td>436</td>\n",
       "      <td>447</td>\n",
       "    </tr>\n",
       "  </tbody>\n",
       "</table>\n",
       "</div>"
      ],
      "text/plain": [
       "                  datetime  season  holiday  workingday  weather   temp  \\\n",
       "5113   2011-12-07 03:00:00       4        0           1        3  18.86   \n",
       "7337   2012-05-05 02:00:00       2        0           0        1  23.78   \n",
       "10356  2012-11-16 22:00:00       4        0           1        1  13.12   \n",
       "6128   2012-02-11 14:00:00       1        0           0        2  10.66   \n",
       "3176   2011-08-02 06:00:00       3        0           1        1  27.88   \n",
       "10367  2012-11-17 09:00:00       4        0           0        1  13.94   \n",
       "10224  2012-11-11 10:00:00       4        0           0        1  16.40   \n",
       "2491   2011-06-11 17:00:00       2        0           0        2  30.34   \n",
       "1951   2011-05-08 05:00:00       2        0           0        2  18.04   \n",
       "5549   2012-01-06 08:00:00       1        0           1        1   9.84   \n",
       "\n",
       "        atemp  humidity  windspeed  casual  registered  count  \n",
       "5113   22.725       100    15.0013       0           3      3  \n",
       "7337   27.275        88     0.0000      24          51     75  \n",
       "10356  15.150        53    16.9979      23         139    162  \n",
       "6128   12.120        81    16.9979      38         205    243  \n",
       "3176   31.820        69     7.0015      12         105    117  \n",
       "10367  15.910        49    15.0013      48         200    248  \n",
       "10224  20.455        69     7.0015     133         272    405  \n",
       "2491   34.090        58    11.0014     147         190    337  \n",
       "1951   21.970        77     0.0000       0           5      5  \n",
       "5549   12.120        70     8.9981      11         436    447  "
      ]
     },
     "execution_count": 5,
     "metadata": {},
     "output_type": "execute_result"
    }
   ],
   "source": [
    "df.sample(10)"
   ]
  },
  {
   "cell_type": "markdown",
   "id": "f8fd66a4",
   "metadata": {},
   "source": [
    "#### Table metadata and datatypes of all columns"
   ]
  },
  {
   "cell_type": "code",
   "execution_count": 6,
   "id": "fb5c27f2",
   "metadata": {},
   "outputs": [
    {
     "name": "stdout",
     "output_type": "stream",
     "text": [
      "<class 'pandas.core.frame.DataFrame'>\n",
      "RangeIndex: 10886 entries, 0 to 10885\n",
      "Data columns (total 12 columns):\n",
      " #   Column      Non-Null Count  Dtype  \n",
      "---  ------      --------------  -----  \n",
      " 0   datetime    10886 non-null  object \n",
      " 1   season      10886 non-null  int64  \n",
      " 2   holiday     10886 non-null  int64  \n",
      " 3   workingday  10886 non-null  int64  \n",
      " 4   weather     10886 non-null  int64  \n",
      " 5   temp        10886 non-null  float64\n",
      " 6   atemp       10886 non-null  float64\n",
      " 7   humidity    10886 non-null  int64  \n",
      " 8   windspeed   10886 non-null  float64\n",
      " 9   casual      10886 non-null  int64  \n",
      " 10  registered  10886 non-null  int64  \n",
      " 11  count       10886 non-null  int64  \n",
      "dtypes: float64(3), int64(8), object(1)\n",
      "memory usage: 1020.7+ KB\n"
     ]
    }
   ],
   "source": [
    "df.info()"
   ]
  },
  {
   "cell_type": "markdown",
   "id": "87af721c",
   "metadata": {},
   "source": [
    "#### Checking empty or null value count"
   ]
  },
  {
   "cell_type": "code",
   "execution_count": 7,
   "id": "4a357501",
   "metadata": {},
   "outputs": [
    {
     "data": {
      "text/plain": [
       "datetime      0\n",
       "season        0\n",
       "holiday       0\n",
       "workingday    0\n",
       "weather       0\n",
       "temp          0\n",
       "atemp         0\n",
       "humidity      0\n",
       "windspeed     0\n",
       "casual        0\n",
       "registered    0\n",
       "count         0\n",
       "dtype: int64"
      ]
     },
     "execution_count": 7,
     "metadata": {},
     "output_type": "execute_result"
    }
   ],
   "source": [
    "df.isnull().sum()"
   ]
  },
  {
   "cell_type": "markdown",
   "id": "c62cf057",
   "metadata": {},
   "source": [
    "#### Metadata information related to few numeric columns"
   ]
  },
  {
   "cell_type": "code",
   "execution_count": 8,
   "id": "a1caced6",
   "metadata": {},
   "outputs": [
    {
     "data": {
      "text/html": [
       "<div>\n",
       "<style scoped>\n",
       "    .dataframe tbody tr th:only-of-type {\n",
       "        vertical-align: middle;\n",
       "    }\n",
       "\n",
       "    .dataframe tbody tr th {\n",
       "        vertical-align: top;\n",
       "    }\n",
       "\n",
       "    .dataframe thead th {\n",
       "        text-align: right;\n",
       "    }\n",
       "</style>\n",
       "<table border=\"1\" class=\"dataframe\">\n",
       "  <thead>\n",
       "    <tr style=\"text-align: right;\">\n",
       "      <th></th>\n",
       "      <th>casual</th>\n",
       "      <th>registered</th>\n",
       "      <th>count</th>\n",
       "    </tr>\n",
       "  </thead>\n",
       "  <tbody>\n",
       "    <tr>\n",
       "      <th>count</th>\n",
       "      <td>10886.000000</td>\n",
       "      <td>10886.000000</td>\n",
       "      <td>10886.000000</td>\n",
       "    </tr>\n",
       "    <tr>\n",
       "      <th>mean</th>\n",
       "      <td>36.021955</td>\n",
       "      <td>155.552177</td>\n",
       "      <td>191.574132</td>\n",
       "    </tr>\n",
       "    <tr>\n",
       "      <th>std</th>\n",
       "      <td>49.960477</td>\n",
       "      <td>151.039033</td>\n",
       "      <td>181.144454</td>\n",
       "    </tr>\n",
       "    <tr>\n",
       "      <th>min</th>\n",
       "      <td>0.000000</td>\n",
       "      <td>0.000000</td>\n",
       "      <td>1.000000</td>\n",
       "    </tr>\n",
       "    <tr>\n",
       "      <th>25%</th>\n",
       "      <td>4.000000</td>\n",
       "      <td>36.000000</td>\n",
       "      <td>42.000000</td>\n",
       "    </tr>\n",
       "    <tr>\n",
       "      <th>50%</th>\n",
       "      <td>17.000000</td>\n",
       "      <td>118.000000</td>\n",
       "      <td>145.000000</td>\n",
       "    </tr>\n",
       "    <tr>\n",
       "      <th>75%</th>\n",
       "      <td>49.000000</td>\n",
       "      <td>222.000000</td>\n",
       "      <td>284.000000</td>\n",
       "    </tr>\n",
       "    <tr>\n",
       "      <th>max</th>\n",
       "      <td>367.000000</td>\n",
       "      <td>886.000000</td>\n",
       "      <td>977.000000</td>\n",
       "    </tr>\n",
       "  </tbody>\n",
       "</table>\n",
       "</div>"
      ],
      "text/plain": [
       "             casual    registered         count\n",
       "count  10886.000000  10886.000000  10886.000000\n",
       "mean      36.021955    155.552177    191.574132\n",
       "std       49.960477    151.039033    181.144454\n",
       "min        0.000000      0.000000      1.000000\n",
       "25%        4.000000     36.000000     42.000000\n",
       "50%       17.000000    118.000000    145.000000\n",
       "75%       49.000000    222.000000    284.000000\n",
       "max      367.000000    886.000000    977.000000"
      ]
     },
     "execution_count": 8,
     "metadata": {},
     "output_type": "execute_result"
    }
   ],
   "source": [
    "df[[\"casual\",\"registered\",\"count\"]].describe()"
   ]
  },
  {
   "cell_type": "markdown",
   "id": "2c2063d4",
   "metadata": {},
   "source": [
    "#### Count based on seasons"
   ]
  },
  {
   "cell_type": "code",
   "execution_count": 9,
   "id": "32c87f76",
   "metadata": {},
   "outputs": [
    {
     "data": {
      "text/plain": [
       "season\n",
       "4    2734\n",
       "2    2733\n",
       "3    2733\n",
       "1    2686\n",
       "Name: count, dtype: int64"
      ]
     },
     "execution_count": 9,
     "metadata": {},
     "output_type": "execute_result"
    }
   ],
   "source": [
    "df[\"season\"].value_counts()"
   ]
  },
  {
   "cell_type": "markdown",
   "id": "b4d237f6",
   "metadata": {},
   "source": [
    "#### Count for work day and holiday"
   ]
  },
  {
   "cell_type": "code",
   "execution_count": 10,
   "id": "aa96a169",
   "metadata": {},
   "outputs": [
    {
     "data": {
      "text/plain": [
       "workingday\n",
       "1    7412\n",
       "0    3474\n",
       "Name: count, dtype: int64"
      ]
     },
     "execution_count": 10,
     "metadata": {},
     "output_type": "execute_result"
    }
   ],
   "source": [
    "df[\"workingday\"].value_counts()"
   ]
  },
  {
   "cell_type": "markdown",
   "id": "6aa63767",
   "metadata": {},
   "source": [
    "#### Count based on weather"
   ]
  },
  {
   "cell_type": "code",
   "execution_count": 11,
   "id": "7b6ab9d1",
   "metadata": {},
   "outputs": [
    {
     "data": {
      "text/plain": [
       "weather\n",
       "1    7192\n",
       "2    2834\n",
       "3     859\n",
       "4       1\n",
       "Name: count, dtype: int64"
      ]
     },
     "execution_count": 11,
     "metadata": {},
     "output_type": "execute_result"
    }
   ],
   "source": [
    "df[\"weather\"].value_counts()"
   ]
  },
  {
   "cell_type": "markdown",
   "id": "bc3509ac",
   "metadata": {},
   "source": [
    "#### Total ride by casual users"
   ]
  },
  {
   "cell_type": "code",
   "execution_count": 12,
   "id": "f41036b7",
   "metadata": {},
   "outputs": [
    {
     "data": {
      "text/plain": [
       "392135"
      ]
     },
     "execution_count": 12,
     "metadata": {},
     "output_type": "execute_result"
    }
   ],
   "source": [
    "df[\"casual\"].sum()"
   ]
  },
  {
   "cell_type": "markdown",
   "id": "260cbb1a",
   "metadata": {},
   "source": [
    "#### Total ride by registered users"
   ]
  },
  {
   "cell_type": "code",
   "execution_count": 13,
   "id": "a2299888",
   "metadata": {},
   "outputs": [
    {
     "data": {
      "text/plain": [
       "1693341"
      ]
     },
     "execution_count": 13,
     "metadata": {},
     "output_type": "execute_result"
    }
   ],
   "source": [
    "df[\"registered\"].sum()"
   ]
  },
  {
   "cell_type": "code",
   "execution_count": 14,
   "id": "0a7fa14a",
   "metadata": {},
   "outputs": [
    {
     "data": {
      "text/html": [
       "<div>\n",
       "<style scoped>\n",
       "    .dataframe tbody tr th:only-of-type {\n",
       "        vertical-align: middle;\n",
       "    }\n",
       "\n",
       "    .dataframe tbody tr th {\n",
       "        vertical-align: top;\n",
       "    }\n",
       "\n",
       "    .dataframe thead th {\n",
       "        text-align: right;\n",
       "    }\n",
       "</style>\n",
       "<table border=\"1\" class=\"dataframe\">\n",
       "  <thead>\n",
       "    <tr style=\"text-align: right;\">\n",
       "      <th>season</th>\n",
       "      <th>1</th>\n",
       "      <th>2</th>\n",
       "      <th>3</th>\n",
       "      <th>4</th>\n",
       "      <th>All</th>\n",
       "    </tr>\n",
       "    <tr>\n",
       "      <th>weather</th>\n",
       "      <th></th>\n",
       "      <th></th>\n",
       "      <th></th>\n",
       "      <th></th>\n",
       "      <th></th>\n",
       "    </tr>\n",
       "  </thead>\n",
       "  <tbody>\n",
       "    <tr>\n",
       "      <th>1</th>\n",
       "      <td>1759</td>\n",
       "      <td>1801</td>\n",
       "      <td>1930</td>\n",
       "      <td>1702</td>\n",
       "      <td>7192</td>\n",
       "    </tr>\n",
       "    <tr>\n",
       "      <th>2</th>\n",
       "      <td>715</td>\n",
       "      <td>708</td>\n",
       "      <td>604</td>\n",
       "      <td>807</td>\n",
       "      <td>2834</td>\n",
       "    </tr>\n",
       "    <tr>\n",
       "      <th>3</th>\n",
       "      <td>211</td>\n",
       "      <td>224</td>\n",
       "      <td>199</td>\n",
       "      <td>225</td>\n",
       "      <td>859</td>\n",
       "    </tr>\n",
       "    <tr>\n",
       "      <th>4</th>\n",
       "      <td>1</td>\n",
       "      <td>0</td>\n",
       "      <td>0</td>\n",
       "      <td>0</td>\n",
       "      <td>1</td>\n",
       "    </tr>\n",
       "    <tr>\n",
       "      <th>All</th>\n",
       "      <td>2686</td>\n",
       "      <td>2733</td>\n",
       "      <td>2733</td>\n",
       "      <td>2734</td>\n",
       "      <td>10886</td>\n",
       "    </tr>\n",
       "  </tbody>\n",
       "</table>\n",
       "</div>"
      ],
      "text/plain": [
       "season      1     2     3     4    All\n",
       "weather                               \n",
       "1        1759  1801  1930  1702   7192\n",
       "2         715   708   604   807   2834\n",
       "3         211   224   199   225    859\n",
       "4           1     0     0     0      1\n",
       "All      2686  2733  2733  2734  10886"
      ]
     },
     "execution_count": 14,
     "metadata": {},
     "output_type": "execute_result"
    }
   ],
   "source": [
    "pd.crosstab(index = df[\"weather\"],columns = df[\"season\"],margins=True)"
   ]
  },
  {
   "cell_type": "markdown",
   "id": "3b93f23b",
   "metadata": {},
   "source": [
    "#### "
   ]
  },
  {
   "cell_type": "code",
   "execution_count": 15,
   "id": "05395289",
   "metadata": {},
   "outputs": [
    {
     "data": {
      "text/html": [
       "<div>\n",
       "<style scoped>\n",
       "    .dataframe tbody tr th:only-of-type {\n",
       "        vertical-align: middle;\n",
       "    }\n",
       "\n",
       "    .dataframe tbody tr th {\n",
       "        vertical-align: top;\n",
       "    }\n",
       "\n",
       "    .dataframe thead th {\n",
       "        text-align: right;\n",
       "    }\n",
       "</style>\n",
       "<table border=\"1\" class=\"dataframe\">\n",
       "  <thead>\n",
       "    <tr style=\"text-align: right;\">\n",
       "      <th>workingday</th>\n",
       "      <th>0</th>\n",
       "      <th>1</th>\n",
       "      <th>All</th>\n",
       "    </tr>\n",
       "    <tr>\n",
       "      <th>weather</th>\n",
       "      <th></th>\n",
       "      <th></th>\n",
       "      <th></th>\n",
       "    </tr>\n",
       "  </thead>\n",
       "  <tbody>\n",
       "    <tr>\n",
       "      <th>1</th>\n",
       "      <td>0.216149</td>\n",
       "      <td>0.444516</td>\n",
       "      <td>0.660665</td>\n",
       "    </tr>\n",
       "    <tr>\n",
       "      <th>2</th>\n",
       "      <td>0.082399</td>\n",
       "      <td>0.177935</td>\n",
       "      <td>0.260334</td>\n",
       "    </tr>\n",
       "    <tr>\n",
       "      <th>3</th>\n",
       "      <td>0.020577</td>\n",
       "      <td>0.058332</td>\n",
       "      <td>0.078909</td>\n",
       "    </tr>\n",
       "    <tr>\n",
       "      <th>4</th>\n",
       "      <td>0.000000</td>\n",
       "      <td>0.000092</td>\n",
       "      <td>0.000092</td>\n",
       "    </tr>\n",
       "    <tr>\n",
       "      <th>All</th>\n",
       "      <td>0.319125</td>\n",
       "      <td>0.680875</td>\n",
       "      <td>1.000000</td>\n",
       "    </tr>\n",
       "  </tbody>\n",
       "</table>\n",
       "</div>"
      ],
      "text/plain": [
       "workingday         0         1       All\n",
       "weather                                 \n",
       "1           0.216149  0.444516  0.660665\n",
       "2           0.082399  0.177935  0.260334\n",
       "3           0.020577  0.058332  0.078909\n",
       "4           0.000000  0.000092  0.000092\n",
       "All         0.319125  0.680875  1.000000"
      ]
     },
     "execution_count": 15,
     "metadata": {},
     "output_type": "execute_result"
    }
   ],
   "source": [
    "pd.crosstab(index = df[\"weather\"],columns = df[\"workingday\"],margins=True,normalize = True)"
   ]
  },
  {
   "cell_type": "code",
   "execution_count": 16,
   "id": "fe01d2ba",
   "metadata": {},
   "outputs": [],
   "source": [
    "df_weather_1 = df[df[\"weather\"] == 1].reset_index(drop=True)\n",
    "df_weather_2 = df[df[\"weather\"] == 2].reset_index(drop=True)\n",
    "df_weather_3 = df[df[\"weather\"] == 3].reset_index(drop=True)\n",
    "df_weather_4 = df[df[\"weather\"] == 4].reset_index(drop=True)"
   ]
  },
  {
   "cell_type": "code",
   "execution_count": 17,
   "id": "9672bc8f",
   "metadata": {},
   "outputs": [],
   "source": [
    "df_weather_ride_count = df.groupby(\"weather\")[\"count\"].sum().reset_index()"
   ]
  },
  {
   "cell_type": "code",
   "execution_count": 18,
   "id": "d880b951",
   "metadata": {},
   "outputs": [
    {
     "data": {
      "text/html": [
       "<div>\n",
       "<style scoped>\n",
       "    .dataframe tbody tr th:only-of-type {\n",
       "        vertical-align: middle;\n",
       "    }\n",
       "\n",
       "    .dataframe tbody tr th {\n",
       "        vertical-align: top;\n",
       "    }\n",
       "\n",
       "    .dataframe thead th {\n",
       "        text-align: right;\n",
       "    }\n",
       "</style>\n",
       "<table border=\"1\" class=\"dataframe\">\n",
       "  <thead>\n",
       "    <tr style=\"text-align: right;\">\n",
       "      <th></th>\n",
       "      <th>weather</th>\n",
       "      <th>count</th>\n",
       "    </tr>\n",
       "  </thead>\n",
       "  <tbody>\n",
       "    <tr>\n",
       "      <th>0</th>\n",
       "      <td>1</td>\n",
       "      <td>1476063</td>\n",
       "    </tr>\n",
       "    <tr>\n",
       "      <th>1</th>\n",
       "      <td>2</td>\n",
       "      <td>507160</td>\n",
       "    </tr>\n",
       "    <tr>\n",
       "      <th>2</th>\n",
       "      <td>3</td>\n",
       "      <td>102089</td>\n",
       "    </tr>\n",
       "    <tr>\n",
       "      <th>3</th>\n",
       "      <td>4</td>\n",
       "      <td>164</td>\n",
       "    </tr>\n",
       "  </tbody>\n",
       "</table>\n",
       "</div>"
      ],
      "text/plain": [
       "   weather    count\n",
       "0        1  1476063\n",
       "1        2   507160\n",
       "2        3   102089\n",
       "3        4      164"
      ]
     },
     "execution_count": 18,
     "metadata": {},
     "output_type": "execute_result"
    }
   ],
   "source": [
    "df_weather_ride_count"
   ]
  },
  {
   "cell_type": "code",
   "execution_count": 19,
   "id": "c80b76c6",
   "metadata": {},
   "outputs": [
    {
     "data": {
      "image/png": "[encoded data removed]",
      "text/plain": [
       "<Figure size 640x480 with 1 Axes>"
      ]
     },
     "metadata": {},
     "output_type": "display_data"
    }
   ],
   "source": [
    "sns.barplot(data=df_weather_ride_count , x= \"weather\",y=\"count\")\n",
    "plt.title(\"Ride count based on weather\")\n",
    "plt.show()"
   ]
  },
  {
   "cell_type": "code",
   "execution_count": 20,
   "id": "e3b496af",
   "metadata": {},
   "outputs": [],
   "source": [
    "df_weather_ride_category = df.groupby(\"weather\")[[\"casual\",\"registered\"]].agg(\"sum\").reset_index()"
   ]
  },
  {
   "cell_type": "code",
   "execution_count": 21,
   "id": "4c0d0018",
   "metadata": {},
   "outputs": [
    {
     "data": {
      "text/html": [
       "<div>\n",
       "<style scoped>\n",
       "    .dataframe tbody tr th:only-of-type {\n",
       "        vertical-align: middle;\n",
       "    }\n",
       "\n",
       "    .dataframe tbody tr th {\n",
       "        vertical-align: top;\n",
       "    }\n",
       "\n",
       "    .dataframe thead th {\n",
       "        text-align: right;\n",
       "    }\n",
       "</style>\n",
       "<table border=\"1\" class=\"dataframe\">\n",
       "  <thead>\n",
       "    <tr style=\"text-align: right;\">\n",
       "      <th></th>\n",
       "      <th>weather</th>\n",
       "      <th>casual</th>\n",
       "      <th>registered</th>\n",
       "    </tr>\n",
       "  </thead>\n",
       "  <tbody>\n",
       "    <tr>\n",
       "      <th>0</th>\n",
       "      <td>1</td>\n",
       "      <td>289900</td>\n",
       "      <td>1186163</td>\n",
       "    </tr>\n",
       "    <tr>\n",
       "      <th>1</th>\n",
       "      <td>2</td>\n",
       "      <td>87246</td>\n",
       "      <td>419914</td>\n",
       "    </tr>\n",
       "    <tr>\n",
       "      <th>2</th>\n",
       "      <td>3</td>\n",
       "      <td>14983</td>\n",
       "      <td>87106</td>\n",
       "    </tr>\n",
       "    <tr>\n",
       "      <th>3</th>\n",
       "      <td>4</td>\n",
       "      <td>6</td>\n",
       "      <td>158</td>\n",
       "    </tr>\n",
       "  </tbody>\n",
       "</table>\n",
       "</div>"
      ],
      "text/plain": [
       "   weather  casual  registered\n",
       "0        1  289900     1186163\n",
       "1        2   87246      419914\n",
       "2        3   14983       87106\n",
       "3        4       6         158"
      ]
     },
     "execution_count": 21,
     "metadata": {},
     "output_type": "execute_result"
    }
   ],
   "source": [
    "df_weather_ride_category"
   ]
  },
  {
   "cell_type": "code",
   "execution_count": 22,
   "id": "5e6e05d0",
   "metadata": {},
   "outputs": [
    {
     "data": {
      "image/png": "[encoded data removed]",
      "text/plain": [
       "<Figure size 640x480 with 1 Axes>"
      ]
     },
     "metadata": {},
     "output_type": "display_data"
    }
   ],
   "source": [
    "sns.barplot(data=df_weather_ride_category , x= \"weather\",y=\"casual\")\n",
    "plt.title(\"Casual user ride count based on weather\")\n",
    "plt.show()"
   ]
  },
  {
   "cell_type": "code",
   "execution_count": 23,
   "id": "f27d2907",
   "metadata": {},
   "outputs": [
    {
     "data": {
      "image/png": "[encoded data removed]",
      "text/plain": [
       "<Figure size 640x480 with 1 Axes>"
      ]
     },
     "metadata": {},
     "output_type": "display_data"
    }
   ],
   "source": [
    "sns.barplot(data=df_weather_ride_category , x= \"weather\",y=\"registered\")\n",
    "plt.title(\"Registered user ride count based on weather\")\n",
    "plt.show()"
   ]
  },
  {
   "cell_type": "code",
   "execution_count": 24,
   "id": "fb6ef245",
   "metadata": {},
   "outputs": [],
   "source": [
    "df_season_ride_count = df.groupby(\"season\")[\"count\"].sum().reset_index()"
   ]
  },
  {
   "cell_type": "code",
   "execution_count": 25,
   "id": "75ba5de2",
   "metadata": {},
   "outputs": [
    {
     "data": {
      "image/png": "[encoded data removed]",
      "text/plain": [
       "<Figure size 640x480 with 1 Axes>"
      ]
     },
     "metadata": {},
     "output_type": "display_data"
    }
   ],
   "source": [
    "sns.barplot(data=df_season_ride_count , x= \"season\",y=\"count\")\n",
    "plt.title(\"overall user ride count based on season\")\n",
    "plt.show()"
   ]
  },
  {
   "cell_type": "code",
   "execution_count": 26,
   "id": "b3a08c1e",
   "metadata": {},
   "outputs": [],
   "source": [
    "df_season_ride_category = df.groupby(\"season\")[[\"casual\",\"registered\"]].agg(\"sum\").reset_index()"
   ]
  },
  {
   "cell_type": "code",
   "execution_count": 27,
   "id": "3a3b8770",
   "metadata": {},
   "outputs": [
    {
     "data": {
      "text/html": [
       "<div>\n",
       "<style scoped>\n",
       "    .dataframe tbody tr th:only-of-type {\n",
       "        vertical-align: middle;\n",
       "    }\n",
       "\n",
       "    .dataframe tbody tr th {\n",
       "        vertical-align: top;\n",
       "    }\n",
       "\n",
       "    .dataframe thead th {\n",
       "        text-align: right;\n",
       "    }\n",
       "</style>\n",
       "<table border=\"1\" class=\"dataframe\">\n",
       "  <thead>\n",
       "    <tr style=\"text-align: right;\">\n",
       "      <th></th>\n",
       "      <th>season</th>\n",
       "      <th>casual</th>\n",
       "      <th>registered</th>\n",
       "    </tr>\n",
       "  </thead>\n",
       "  <tbody>\n",
       "    <tr>\n",
       "      <th>0</th>\n",
       "      <td>1</td>\n",
       "      <td>41605</td>\n",
       "      <td>270893</td>\n",
       "    </tr>\n",
       "    <tr>\n",
       "      <th>1</th>\n",
       "      <td>2</td>\n",
       "      <td>129672</td>\n",
       "      <td>458610</td>\n",
       "    </tr>\n",
       "    <tr>\n",
       "      <th>2</th>\n",
       "      <td>3</td>\n",
       "      <td>142718</td>\n",
       "      <td>497944</td>\n",
       "    </tr>\n",
       "    <tr>\n",
       "      <th>3</th>\n",
       "      <td>4</td>\n",
       "      <td>78140</td>\n",
       "      <td>465894</td>\n",
       "    </tr>\n",
       "  </tbody>\n",
       "</table>\n",
       "</div>"
      ],
      "text/plain": [
       "   season  casual  registered\n",
       "0       1   41605      270893\n",
       "1       2  129672      458610\n",
       "2       3  142718      497944\n",
       "3       4   78140      465894"
      ]
     },
     "execution_count": 27,
     "metadata": {},
     "output_type": "execute_result"
    }
   ],
   "source": [
    "df_season_ride_category"
   ]
  },
  {
   "cell_type": "code",
   "execution_count": 28,
   "id": "db12da58",
   "metadata": {},
   "outputs": [
    {
     "data": {
      "image/png": "[encoded data removed]",
      "text/plain": [
       "<Figure size 640x480 with 1 Axes>"
      ]
     },
     "metadata": {},
     "output_type": "display_data"
    }
   ],
   "source": [
    "sns.barplot(data=df_season_ride_category , x= \"season\",y=\"casual\")\n",
    "plt.title(\"Casual user ride count based on season\")\n",
    "plt.show()"
   ]
  },
  {
   "cell_type": "code",
   "execution_count": 29,
   "id": "b248b6c3",
   "metadata": {},
   "outputs": [
    {
     "data": {
      "image/png": "[encoded data removed]",
      "text/plain": [
       "<Figure size 640x480 with 1 Axes>"
      ]
     },
     "metadata": {},
     "output_type": "display_data"
    }
   ],
   "source": [
    "sns.barplot(data=df_season_ride_category , x= \"season\",y=\"registered\")\n",
    "plt.title(\"Registered user ride count based on season\")\n",
    "plt.show()"
   ]
  },
  {
   "cell_type": "code",
   "execution_count": 30,
   "id": "fff50189",
   "metadata": {},
   "outputs": [],
   "source": [
    "df_wd_ride_count = df.groupby(\"workingday\")[\"count\"].sum().reset_index()"
   ]
  },
  {
   "cell_type": "code",
   "execution_count": 31,
   "id": "b518affc",
   "metadata": {},
   "outputs": [
    {
     "data": {
      "text/html": [
       "<div>\n",
       "<style scoped>\n",
       "    .dataframe tbody tr th:only-of-type {\n",
       "        vertical-align: middle;\n",
       "    }\n",
       "\n",
       "    .dataframe tbody tr th {\n",
       "        vertical-align: top;\n",
       "    }\n",
       "\n",
       "    .dataframe thead th {\n",
       "        text-align: right;\n",
       "    }\n",
       "</style>\n",
       "<table border=\"1\" class=\"dataframe\">\n",
       "  <thead>\n",
       "    <tr style=\"text-align: right;\">\n",
       "      <th></th>\n",
       "      <th>workingday</th>\n",
       "      <th>count</th>\n",
       "    </tr>\n",
       "  </thead>\n",
       "  <tbody>\n",
       "    <tr>\n",
       "      <th>0</th>\n",
       "      <td>0</td>\n",
       "      <td>654872</td>\n",
       "    </tr>\n",
       "    <tr>\n",
       "      <th>1</th>\n",
       "      <td>1</td>\n",
       "      <td>1430604</td>\n",
       "    </tr>\n",
       "  </tbody>\n",
       "</table>\n",
       "</div>"
      ],
      "text/plain": [
       "   workingday    count\n",
       "0           0   654872\n",
       "1           1  1430604"
      ]
     },
     "execution_count": 31,
     "metadata": {},
     "output_type": "execute_result"
    }
   ],
   "source": [
    "df_wd_ride_count"
   ]
  },
  {
   "cell_type": "code",
   "execution_count": 32,
   "id": "750761ed",
   "metadata": {},
   "outputs": [
    {
     "data": {
      "image/png": "[encoded data removed]",
      "text/plain": [
       "<Figure size 640x480 with 1 Axes>"
      ]
     },
     "metadata": {},
     "output_type": "display_data"
    }
   ],
   "source": [
    "sns.barplot(data=df_wd_ride_count , x= \"workingday\",y=\"count\")\n",
    "plt.title(\"overall user ride count on 0-holiday or weekend and 1-on weekday\")\n",
    "plt.show()"
   ]
  },
  {
   "cell_type": "code",
   "execution_count": 33,
   "id": "51851d24",
   "metadata": {},
   "outputs": [],
   "source": [
    "df_wd_ride_category = df.groupby(\"workingday\")[[\"casual\",\"registered\"]].agg(\"sum\").reset_index()"
   ]
  },
  {
   "cell_type": "code",
   "execution_count": 34,
   "id": "1e05f95e",
   "metadata": {},
   "outputs": [
    {
     "data": {
      "text/html": [
       "<div>\n",
       "<style scoped>\n",
       "    .dataframe tbody tr th:only-of-type {\n",
       "        vertical-align: middle;\n",
       "    }\n",
       "\n",
       "    .dataframe tbody tr th {\n",
       "        vertical-align: top;\n",
       "    }\n",
       "\n",
       "    .dataframe thead th {\n",
       "        text-align: right;\n",
       "    }\n",
       "</style>\n",
       "<table border=\"1\" class=\"dataframe\">\n",
       "  <thead>\n",
       "    <tr style=\"text-align: right;\">\n",
       "      <th></th>\n",
       "      <th>workingday</th>\n",
       "      <th>casual</th>\n",
       "      <th>registered</th>\n",
       "    </tr>\n",
       "  </thead>\n",
       "  <tbody>\n",
       "    <tr>\n",
       "      <th>0</th>\n",
       "      <td>0</td>\n",
       "      <td>206037</td>\n",
       "      <td>448835</td>\n",
       "    </tr>\n",
       "    <tr>\n",
       "      <th>1</th>\n",
       "      <td>1</td>\n",
       "      <td>186098</td>\n",
       "      <td>1244506</td>\n",
       "    </tr>\n",
       "  </tbody>\n",
       "</table>\n",
       "</div>"
      ],
      "text/plain": [
       "   workingday  casual  registered\n",
       "0           0  206037      448835\n",
       "1           1  186098     1244506"
      ]
     },
     "execution_count": 34,
     "metadata": {},
     "output_type": "execute_result"
    }
   ],
   "source": [
    "df_wd_ride_category"
   ]
  },
  {
   "cell_type": "code",
   "execution_count": 35,
   "id": "9d3ff330",
   "metadata": {},
   "outputs": [
    {
     "data": {
      "image/png": "[encoded data removed]",
      "text/plain": [
       "<Figure size 640x480 with 1 Axes>"
      ]
     },
     "metadata": {},
     "output_type": "display_data"
    }
   ],
   "source": [
    "sns.barplot(data=df_wd_ride_category , x= \"workingday\",y=\"casual\")\n",
    "plt.title(\"Casual user ride count based on workingday\")\n",
    "plt.show()"
   ]
  },
  {
   "cell_type": "code",
   "execution_count": 36,
   "id": "0bf45761",
   "metadata": {},
   "outputs": [
    {
     "data": {
      "image/png": "[encoded data removed]",
      "text/plain": [
       "<Figure size 640x480 with 1 Axes>"
      ]
     },
     "metadata": {},
     "output_type": "display_data"
    }
   ],
   "source": [
    "sns.barplot(data=df_wd_ride_category , x= \"workingday\",y=\"registered\")\n",
    "plt.title(\"Registered user ride count based on workingday\")\n",
    "plt.show()"
   ]
  },
  {
   "cell_type": "code",
   "execution_count": 37,
   "id": "100af54d",
   "metadata": {},
   "outputs": [],
   "source": [
    "df[\"datetime\"] = pd.to_datetime(df[\"datetime\"])"
   ]
  },
  {
   "cell_type": "code",
   "execution_count": 38,
   "id": "3dcf2e6c",
   "metadata": {},
   "outputs": [],
   "source": [
    "df[\"event_date\"] =  df[\"datetime\"].dt.date\n",
    "df[\"year\"] = df[\"datetime\"].dt.year\n",
    "df[\"month\"] = df[\"datetime\"].dt.month"
   ]
  },
  {
   "cell_type": "code",
   "execution_count": 39,
   "id": "d549d51e",
   "metadata": {},
   "outputs": [
    {
     "name": "stdout",
     "output_type": "stream",
     "text": [
      "<class 'pandas.core.frame.DataFrame'>\n",
      "RangeIndex: 10886 entries, 0 to 10885\n",
      "Data columns (total 15 columns):\n",
      " #   Column      Non-Null Count  Dtype         \n",
      "---  ------      --------------  -----         \n",
      " 0   datetime    10886 non-null  datetime64[ns]\n",
      " 1   season      10886 non-null  int64         \n",
      " 2   holiday     10886 non-null  int64         \n",
      " 3   workingday  10886 non-null  int64         \n",
      " 4   weather     10886 non-null  int64         \n",
      " 5   temp        10886 non-null  float64       \n",
      " 6   atemp       10886 non-null  float64       \n",
      " 7   humidity    10886 non-null  int64         \n",
      " 8   windspeed   10886 non-null  float64       \n",
      " 9   casual      10886 non-null  int64         \n",
      " 10  registered  10886 non-null  int64         \n",
      " 11  count       10886 non-null  int64         \n",
      " 12  event_date  10886 non-null  object        \n",
      " 13  year        10886 non-null  int32         \n",
      " 14  month       10886 non-null  int32         \n",
      "dtypes: datetime64[ns](1), float64(3), int32(2), int64(8), object(1)\n",
      "memory usage: 1.2+ MB\n"
     ]
    }
   ],
   "source": [
    "df.info()"
   ]
  },
  {
   "cell_type": "code",
   "execution_count": 40,
   "id": "d00e946f",
   "metadata": {},
   "outputs": [],
   "source": [
    "df_year_data = df.groupby(\"year\")[[\"casual\",\"registered\"]].agg(\"sum\").reset_index()"
   ]
  },
  {
   "cell_type": "code",
   "execution_count": 41,
   "id": "d6ea3aea",
   "metadata": {},
   "outputs": [
    {
     "data": {
      "text/html": [
       "<div>\n",
       "<style scoped>\n",
       "    .dataframe tbody tr th:only-of-type {\n",
       "        vertical-align: middle;\n",
       "    }\n",
       "\n",
       "    .dataframe tbody tr th {\n",
       "        vertical-align: top;\n",
       "    }\n",
       "\n",
       "    .dataframe thead th {\n",
       "        text-align: right;\n",
       "    }\n",
       "</style>\n",
       "<table border=\"1\" class=\"dataframe\">\n",
       "  <thead>\n",
       "    <tr style=\"text-align: right;\">\n",
       "      <th></th>\n",
       "      <th>year</th>\n",
       "      <th>casual</th>\n",
       "      <th>registered</th>\n",
       "    </tr>\n",
       "  </thead>\n",
       "  <tbody>\n",
       "    <tr>\n",
       "      <th>0</th>\n",
       "      <td>2011</td>\n",
       "      <td>155817</td>\n",
       "      <td>626162</td>\n",
       "    </tr>\n",
       "    <tr>\n",
       "      <th>1</th>\n",
       "      <td>2012</td>\n",
       "      <td>236318</td>\n",
       "      <td>1067179</td>\n",
       "    </tr>\n",
       "  </tbody>\n",
       "</table>\n",
       "</div>"
      ],
      "text/plain": [
       "   year  casual  registered\n",
       "0  2011  155817      626162\n",
       "1  2012  236318     1067179"
      ]
     },
     "execution_count": 41,
     "metadata": {},
     "output_type": "execute_result"
    }
   ],
   "source": [
    "df_year_data"
   ]
  },
  {
   "cell_type": "code",
   "execution_count": 42,
   "id": "ffdd4ed9",
   "metadata": {},
   "outputs": [
    {
     "data": {
      "image/png": "[encoded data removed]",
      "text/plain": [
       "<Figure size 640x480 with 1 Axes>"
      ]
     },
     "metadata": {},
     "output_type": "display_data"
    }
   ],
   "source": [
    "sns.barplot(data=df_year_data , x= \"year\",y=\"casual\")\n",
    "plt.title(\"Year based casual user ride count\")\n",
    "plt.show()"
   ]
  },
  {
   "cell_type": "code",
   "execution_count": 43,
   "id": "449c549b",
   "metadata": {},
   "outputs": [
    {
     "data": {
      "image/png": "[encoded data removed]",
      "text/plain": [
       "<Figure size 640x480 with 1 Axes>"
      ]
     },
     "metadata": {},
     "output_type": "display_data"
    }
   ],
   "source": [
    "sns.barplot(data=df_year_data , x= \"year\",y=\"registered\")\n",
    "plt.title(\"Year based Registered user ride count\")\n",
    "plt.show()"
   ]
  },
  {
   "cell_type": "code",
   "execution_count": 44,
   "id": "ef953577",
   "metadata": {},
   "outputs": [
    {
     "data": {
      "text/html": [
       "<div>\n",
       "<style scoped>\n",
       "    .dataframe tbody tr th:only-of-type {\n",
       "        vertical-align: middle;\n",
       "    }\n",
       "\n",
       "    .dataframe tbody tr th {\n",
       "        vertical-align: top;\n",
       "    }\n",
       "\n",
       "    .dataframe thead th {\n",
       "        text-align: right;\n",
       "    }\n",
       "</style>\n",
       "<table border=\"1\" class=\"dataframe\">\n",
       "  <thead>\n",
       "    <tr style=\"text-align: right;\">\n",
       "      <th></th>\n",
       "      <th>month</th>\n",
       "      <th>casual</th>\n",
       "      <th>registered</th>\n",
       "    </tr>\n",
       "  </thead>\n",
       "  <tbody>\n",
       "    <tr>\n",
       "      <th>0</th>\n",
       "      <td>1</td>\n",
       "      <td>7252</td>\n",
       "      <td>72632</td>\n",
       "    </tr>\n",
       "    <tr>\n",
       "      <th>1</th>\n",
       "      <td>2</td>\n",
       "      <td>9297</td>\n",
       "      <td>89816</td>\n",
       "    </tr>\n",
       "    <tr>\n",
       "      <th>2</th>\n",
       "      <td>3</td>\n",
       "      <td>25056</td>\n",
       "      <td>108445</td>\n",
       "    </tr>\n",
       "    <tr>\n",
       "      <th>3</th>\n",
       "      <td>4</td>\n",
       "      <td>39813</td>\n",
       "      <td>127589</td>\n",
       "    </tr>\n",
       "    <tr>\n",
       "      <th>4</th>\n",
       "      <td>5</td>\n",
       "      <td>41285</td>\n",
       "      <td>158862</td>\n",
       "    </tr>\n",
       "    <tr>\n",
       "      <th>5</th>\n",
       "      <td>6</td>\n",
       "      <td>48574</td>\n",
       "      <td>172159</td>\n",
       "    </tr>\n",
       "    <tr>\n",
       "      <th>6</th>\n",
       "      <td>7</td>\n",
       "      <td>50947</td>\n",
       "      <td>163670</td>\n",
       "    </tr>\n",
       "    <tr>\n",
       "      <th>7</th>\n",
       "      <td>8</td>\n",
       "      <td>45870</td>\n",
       "      <td>167646</td>\n",
       "    </tr>\n",
       "    <tr>\n",
       "      <th>8</th>\n",
       "      <td>9</td>\n",
       "      <td>45901</td>\n",
       "      <td>166628</td>\n",
       "    </tr>\n",
       "    <tr>\n",
       "      <th>9</th>\n",
       "      <td>10</td>\n",
       "      <td>38087</td>\n",
       "      <td>169347</td>\n",
       "    </tr>\n",
       "    <tr>\n",
       "      <th>10</th>\n",
       "      <td>11</td>\n",
       "      <td>25353</td>\n",
       "      <td>151087</td>\n",
       "    </tr>\n",
       "    <tr>\n",
       "      <th>11</th>\n",
       "      <td>12</td>\n",
       "      <td>14700</td>\n",
       "      <td>145460</td>\n",
       "    </tr>\n",
       "  </tbody>\n",
       "</table>\n",
       "</div>"
      ],
      "text/plain": [
       "    month  casual  registered\n",
       "0       1    7252       72632\n",
       "1       2    9297       89816\n",
       "2       3   25056      108445\n",
       "3       4   39813      127589\n",
       "4       5   41285      158862\n",
       "5       6   48574      172159\n",
       "6       7   50947      163670\n",
       "7       8   45870      167646\n",
       "8       9   45901      166628\n",
       "9      10   38087      169347\n",
       "10     11   25353      151087\n",
       "11     12   14700      145460"
      ]
     },
     "execution_count": 44,
     "metadata": {},
     "output_type": "execute_result"
    }
   ],
   "source": [
    "df_month_data = df.groupby(\"month\")[[\"casual\",\"registered\"]].agg(\"sum\").reset_index()\n",
    "df_month_data"
   ]
  },
  {
   "cell_type": "code",
   "execution_count": 45,
   "id": "c21a3c8d",
   "metadata": {},
   "outputs": [
    {
     "data": {
      "image/png": "[encoded data removed]",
      "text/plain": [
       "<Figure size 640x480 with 1 Axes>"
      ]
     },
     "metadata": {},
     "output_type": "display_data"
    }
   ],
   "source": [
    "sns.barplot(data=df_month_data , x= \"month\",y=\"casual\")\n",
    "plt.title(\"Month based casual user ride count\")\n",
    "plt.show()"
   ]
  },
  {
   "cell_type": "code",
   "execution_count": 46,
   "id": "9946c862",
   "metadata": {},
   "outputs": [
    {
     "data": {
      "image/png": "[encoded data removed]",
      "text/plain": [
       "<Figure size 640x480 with 1 Axes>"
      ]
     },
     "metadata": {},
     "output_type": "display_data"
    }
   ],
   "source": [
    "sns.barplot(data=df_month_data , x= \"month\",y=\"registered\")\n",
    "plt.title(\"Month based Registered user ride count\")\n",
    "plt.show()"
   ]
  },
  {
   "cell_type": "code",
   "execution_count": 47,
   "id": "63727317",
   "metadata": {},
   "outputs": [],
   "source": [
    "df_month_temp = df.groupby(\"month\")[\"atemp\"].mean().reset_index()"
   ]
  },
  {
   "cell_type": "code",
   "execution_count": 48,
   "id": "790e7069",
   "metadata": {},
   "outputs": [
    {
     "data": {
      "image/png": "[encoded data removed]",
      "text/plain": [
       "<Figure size 640x480 with 1 Axes>"
      ]
     },
     "metadata": {},
     "output_type": "display_data"
    }
   ],
   "source": [
    "sns.barplot(data=df_month_temp , x= \"month\",y=\"atemp\")\n",
    "plt.title(\"Month based average temperature\")\n",
    "plt.show()"
   ]
  },
  {
   "cell_type": "code",
   "execution_count": 49,
   "id": "ac92ee85",
   "metadata": {},
   "outputs": [],
   "source": [
    "df_month_data_temp = df_month_data.merge(df_month_temp,on=\"month\",how=\"inner\")"
   ]
  },
  {
   "cell_type": "code",
   "execution_count": 50,
   "id": "264c08ce",
   "metadata": {},
   "outputs": [
    {
     "name": "stderr",
     "output_type": "stream",
     "text": [
      "C:\\Users\\Madhuri\\anaconda3\\Lib\\site-packages\\seaborn\\_oldcore.py:1119: FutureWarning: use_inf_as_na option is deprecated and will be removed in a future version. Convert inf values to NaN before operating instead.\n",
      "  with pd.option_context('mode.use_inf_as_na', True):\n",
      "C:\\Users\\Madhuri\\anaconda3\\Lib\\site-packages\\seaborn\\_oldcore.py:1119: FutureWarning: use_inf_as_na option is deprecated and will be removed in a future version. Convert inf values to NaN before operating instead.\n",
      "  with pd.option_context('mode.use_inf_as_na', True):\n"
     ]
    },
    {
     "data": {
      "image/png": "[encoded data removed]",
      "text/plain": [
       "<Figure size 640x480 with 1 Axes>"
      ]
     },
     "metadata": {},
     "output_type": "display_data"
    }
   ],
   "source": [
    "sns.lineplot(data=df_month_data_temp,x=\"month\",y=\"atemp\",color=\"red\")\n",
    "plt.title(\"Average temparature for all the months\")\n",
    "plt.show()"
   ]
  },
  {
   "cell_type": "markdown",
   "id": "4de0cf78",
   "metadata": {},
   "source": [
    "### Months from April to October has  highest riding.During this period the tempartue is as high as 34 and as low as 24 which is ideal to rid a bicycle/ev in India."
   ]
  },
  {
   "cell_type": "code",
   "execution_count": 51,
   "id": "6ef0c1ac",
   "metadata": {},
   "outputs": [
    {
     "data": {
      "text/html": [
       "<div>\n",
       "<style scoped>\n",
       "    .dataframe tbody tr th:only-of-type {\n",
       "        vertical-align: middle;\n",
       "    }\n",
       "\n",
       "    .dataframe tbody tr th {\n",
       "        vertical-align: top;\n",
       "    }\n",
       "\n",
       "    .dataframe thead th {\n",
       "        text-align: right;\n",
       "    }\n",
       "</style>\n",
       "<table border=\"1\" class=\"dataframe\">\n",
       "  <thead>\n",
       "    <tr style=\"text-align: right;\">\n",
       "      <th></th>\n",
       "      <th>month</th>\n",
       "      <th>casual</th>\n",
       "      <th>registered</th>\n",
       "      <th>atemp</th>\n",
       "    </tr>\n",
       "  </thead>\n",
       "  <tbody>\n",
       "    <tr>\n",
       "      <th>0</th>\n",
       "      <td>1</td>\n",
       "      <td>7252</td>\n",
       "      <td>72632</td>\n",
       "      <td>12.077579</td>\n",
       "    </tr>\n",
       "    <tr>\n",
       "      <th>1</th>\n",
       "      <td>2</td>\n",
       "      <td>9297</td>\n",
       "      <td>89816</td>\n",
       "      <td>14.532608</td>\n",
       "    </tr>\n",
       "    <tr>\n",
       "      <th>2</th>\n",
       "      <td>3</td>\n",
       "      <td>25056</td>\n",
       "      <td>108445</td>\n",
       "      <td>19.017220</td>\n",
       "    </tr>\n",
       "    <tr>\n",
       "      <th>3</th>\n",
       "      <td>4</td>\n",
       "      <td>39813</td>\n",
       "      <td>127589</td>\n",
       "      <td>22.305891</td>\n",
       "    </tr>\n",
       "    <tr>\n",
       "      <th>4</th>\n",
       "      <td>5</td>\n",
       "      <td>41285</td>\n",
       "      <td>158862</td>\n",
       "      <td>26.632374</td>\n",
       "    </tr>\n",
       "    <tr>\n",
       "      <th>5</th>\n",
       "      <td>6</td>\n",
       "      <td>48574</td>\n",
       "      <td>172159</td>\n",
       "      <td>30.988750</td>\n",
       "    </tr>\n",
       "    <tr>\n",
       "      <th>6</th>\n",
       "      <td>7</td>\n",
       "      <td>50947</td>\n",
       "      <td>163670</td>\n",
       "      <td>34.900395</td>\n",
       "    </tr>\n",
       "    <tr>\n",
       "      <th>7</th>\n",
       "      <td>8</td>\n",
       "      <td>45870</td>\n",
       "      <td>167646</td>\n",
       "      <td>33.122001</td>\n",
       "    </tr>\n",
       "    <tr>\n",
       "      <th>8</th>\n",
       "      <td>9</td>\n",
       "      <td>45901</td>\n",
       "      <td>166628</td>\n",
       "      <td>29.590248</td>\n",
       "    </tr>\n",
       "    <tr>\n",
       "      <th>9</th>\n",
       "      <td>10</td>\n",
       "      <td>38087</td>\n",
       "      <td>169347</td>\n",
       "      <td>24.739682</td>\n",
       "    </tr>\n",
       "    <tr>\n",
       "      <th>10</th>\n",
       "      <td>11</td>\n",
       "      <td>25353</td>\n",
       "      <td>151087</td>\n",
       "      <td>18.326054</td>\n",
       "    </tr>\n",
       "    <tr>\n",
       "      <th>11</th>\n",
       "      <td>12</td>\n",
       "      <td>14700</td>\n",
       "      <td>145460</td>\n",
       "      <td>17.117220</td>\n",
       "    </tr>\n",
       "  </tbody>\n",
       "</table>\n",
       "</div>"
      ],
      "text/plain": [
       "    month  casual  registered      atemp\n",
       "0       1    7252       72632  12.077579\n",
       "1       2    9297       89816  14.532608\n",
       "2       3   25056      108445  19.017220\n",
       "3       4   39813      127589  22.305891\n",
       "4       5   41285      158862  26.632374\n",
       "5       6   48574      172159  30.988750\n",
       "6       7   50947      163670  34.900395\n",
       "7       8   45870      167646  33.122001\n",
       "8       9   45901      166628  29.590248\n",
       "9      10   38087      169347  24.739682\n",
       "10     11   25353      151087  18.326054\n",
       "11     12   14700      145460  17.117220"
      ]
     },
     "execution_count": 51,
     "metadata": {},
     "output_type": "execute_result"
    }
   ],
   "source": [
    "df_month_data_temp"
   ]
  },
  {
   "cell_type": "markdown",
   "id": "06d80b82",
   "metadata": {},
   "source": [
    "### Test:1  Is Working Day has an effect on the number of electric cycles rented"
   ]
  },
  {
   "cell_type": "markdown",
   "id": "a37d5ce7",
   "metadata": {},
   "source": [
    "<b>m1</b> is defined as mean for ride count on working days.</br>\n",
    "<b>m2</b> is defined as mean for ride count on non-working days.</br>\n",
    "<b>H0</b> : <b>m1 = m2</b>. Mean ride count are same on both working and non-working days. </br>\n",
    "Significant level : 95% or <b>0.95</b></br>\n",
    "alpha = 1 - Significant level</br>\n",
    "alpha = <b>0.05</b></br>\n"
   ]
  },
  {
   "cell_type": "code",
   "execution_count": 52,
   "id": "6ab87cb9",
   "metadata": {},
   "outputs": [],
   "source": [
    "def check(pvalue,alpha):\n",
    "    if pvalue < alpha:\n",
    "        print('Reject H0')\n",
    "    else:\n",
    "        print ('Fail to Reject H0')"
   ]
  },
  {
   "cell_type": "code",
   "execution_count": 53,
   "id": "e6575fde",
   "metadata": {},
   "outputs": [],
   "source": [
    "df_day = df.groupby(\"event_date\")[\"count\"].agg(\"sum\").reset_index()"
   ]
  },
  {
   "cell_type": "code",
   "execution_count": 54,
   "id": "587df17d",
   "metadata": {},
   "outputs": [],
   "source": [
    "df_day_tmp = df.groupby(\"event_date\")[\"workingday\"].agg(pd.Series.mode).reset_index()"
   ]
  },
  {
   "cell_type": "code",
   "execution_count": 55,
   "id": "56a5286c",
   "metadata": {},
   "outputs": [],
   "source": [
    "df_day = df_day.merge(df_day_tmp,on=\"event_date\",how = \"inner\")"
   ]
  },
  {
   "cell_type": "code",
   "execution_count": 56,
   "id": "d423e235",
   "metadata": {},
   "outputs": [
    {
     "name": "stderr",
     "output_type": "stream",
     "text": [
      "C:\\Users\\Madhuri\\AppData\\Local\\Temp\\ipykernel_8576\\1320077117.py:1: UserWarning: Boolean Series key will be reindexed to match DataFrame index.\n",
      "  df_working_day = df_day[df[\"workingday\"] == 1]\n",
      "C:\\Users\\Madhuri\\AppData\\Local\\Temp\\ipykernel_8576\\1320077117.py:2: UserWarning: Boolean Series key will be reindexed to match DataFrame index.\n",
      "  df_non_working_day = df_day[df[\"workingday\"] == 0]\n"
     ]
    }
   ],
   "source": [
    "df_working_day = df_day[df[\"workingday\"] == 1]\n",
    "df_non_working_day = df_day[df[\"workingday\"] == 0]\n",
    "alpha = 0.05"
   ]
  },
  {
   "cell_type": "markdown",
   "id": "6f257279",
   "metadata": {},
   "source": [
    "<b> Option 1</b> : <b>Ha</b> : <b>m1 != m2</b>.Mean ride count are <b>not</b> same on both working and non-working days. </br>"
   ]
  },
  {
   "cell_type": "code",
   "execution_count": 57,
   "id": "4efc4a77",
   "metadata": {},
   "outputs": [
    {
     "data": {
      "text/plain": [
       "(0.03402448392560522, 0.9728725802897569)"
      ]
     },
     "execution_count": 57,
     "metadata": {},
     "output_type": "execute_result"
    }
   ],
   "source": [
    "t_stat_1, pvalue_1 = ttest_ind(df_working_day[\"count\"], df_non_working_day[\"count\"],alternative = \"two-sided\")\n",
    "t_stat_1, pvalue_1"
   ]
  },
  {
   "cell_type": "code",
   "execution_count": 58,
   "id": "52cbed0b",
   "metadata": {},
   "outputs": [
    {
     "name": "stdout",
     "output_type": "stream",
     "text": [
      "Fail to Reject H0\n"
     ]
    }
   ],
   "source": [
    "check(pvalue_1,alpha)"
   ]
  },
  {
   "cell_type": "markdown",
   "id": "6a088065",
   "metadata": {},
   "source": [
    "<b> Option 2</b> : <b>Ha</b> : <b>m1 less than m2</b>.</br>"
   ]
  },
  {
   "cell_type": "code",
   "execution_count": 59,
   "id": "b73a9b02",
   "metadata": {},
   "outputs": [
    {
     "data": {
      "text/plain": [
       "(0.03402448392560522, 0.5135637098551216)"
      ]
     },
     "execution_count": 59,
     "metadata": {},
     "output_type": "execute_result"
    }
   ],
   "source": [
    "t_stat_2, pvalue_2 = ttest_ind(df_working_day[\"count\"], df_non_working_day[\"count\"],alternative = \"less\")\n",
    "t_stat_2, pvalue_2"
   ]
  },
  {
   "cell_type": "code",
   "execution_count": 60,
   "id": "8d18c8df",
   "metadata": {},
   "outputs": [
    {
     "name": "stdout",
     "output_type": "stream",
     "text": [
      "Fail to Reject H0\n"
     ]
    }
   ],
   "source": [
    "check(pvalue_2,alpha)"
   ]
  },
  {
   "cell_type": "markdown",
   "id": "e0bba88a",
   "metadata": {},
   "source": [
    "<b> Option 3</b> : <b>Ha</b> : <b>m1 greater than m2</b>.</br>"
   ]
  },
  {
   "cell_type": "code",
   "execution_count": 61,
   "id": "94d1553f",
   "metadata": {},
   "outputs": [
    {
     "data": {
      "text/plain": [
       "(0.03402448392560522, 0.48643629014487844)"
      ]
     },
     "execution_count": 61,
     "metadata": {},
     "output_type": "execute_result"
    }
   ],
   "source": [
    "t_stat_3, pvalue_3 = ttest_ind(df_working_day[\"count\"], df_non_working_day[\"count\"],alternative = \"greater\")\n",
    "t_stat_3, pvalue_3"
   ]
  },
  {
   "cell_type": "code",
   "execution_count": 62,
   "id": "f6e23d75",
   "metadata": {},
   "outputs": [
    {
     "name": "stdout",
     "output_type": "stream",
     "text": [
      "Fail to Reject H0\n"
     ]
    }
   ],
   "source": [
    "check(pvalue_2,alpha)"
   ]
  },
  {
   "cell_type": "markdown",
   "id": "5f3e4c85",
   "metadata": {},
   "source": [
    "<b>Conclusion</b>: The ride count on a business day is not equal to ride count on non-working days"
   ]
  },
  {
   "cell_type": "markdown",
   "id": "c23e814e",
   "metadata": {},
   "source": [
    "### Test:2  Number of cycles rented is similar or different in different weather conditions.\n",
    "#### H0: Number of cycles rented is similar across different weather conditions.\n",
    "#### H1: Number of cycles rented are different in different weather conditions."
   ]
  },
  {
   "cell_type": "code",
   "execution_count": 63,
   "id": "e5043343",
   "metadata": {},
   "outputs": [],
   "source": [
    "df_weather_daily = df.groupby(['event_date',\"weather\"]).agg({\"count\":\"sum\"}).reset_index()"
   ]
  },
  {
   "cell_type": "code",
   "execution_count": 64,
   "id": "00a7fa17",
   "metadata": {},
   "outputs": [],
   "source": [
    "weather_count_1  = df_weather_daily[df_weather_daily[\"weather\"] == 1][\"count\"]\n",
    "weather_count_2  = df_weather_daily[df_weather_daily[\"weather\"] == 2][\"count\"]\n",
    "weather_count_3  = df_weather_daily[df_weather_daily[\"weather\"] == 3][\"count\"]\n",
    "weather_count_4  = df_weather_daily[df_weather_daily[\"weather\"] == 4][\"count\"]"
   ]
  },
  {
   "cell_type": "markdown",
   "id": "7aab231e",
   "metadata": {},
   "source": [
    "### We will do shapiro test to understand if the data to be tested is of gaussian distribution or not."
   ]
  },
  {
   "cell_type": "code",
   "execution_count": 65,
   "id": "b63858fc",
   "metadata": {},
   "outputs": [],
   "source": [
    "def test_gaussian(name,p_value):\n",
    "    if p_value < 0.05:\n",
    "        print(\"Reject H0\")\n",
    "        print(f\"{name} data is not Gaussian\")\n",
    "    else:\n",
    "        print(\"Fail to reject H0\")\n",
    "        print(f\"{name} data is Gaussian\")"
   ]
  },
  {
   "cell_type": "code",
   "execution_count": 66,
   "id": "e6df14ff",
   "metadata": {},
   "outputs": [
    {
     "name": "stdout",
     "output_type": "stream",
     "text": [
      "Reject H0\n",
      "Weather_count_1 data is not Gaussian\n",
      "Reject H0\n",
      "Weather_count_2 data is not Gaussian\n",
      "Reject H0\n",
      "Weather_count_3 data is not Gaussian\n",
      "Weather count for type 4 is: 1\n"
     ]
    }
   ],
   "source": [
    "test_stat_1, p_value_1 = shapiro(weather_count_1)\n",
    "test_gaussian(\"Weather_count_1\",p_value_1)\n",
    "\n",
    "test_stat_2, p_value_2 = shapiro(weather_count_2)\n",
    "test_gaussian(\"Weather_count_2\",p_value_2)\n",
    "\n",
    "test_stat_3, p_value_3 = shapiro(weather_count_3)\n",
    "test_gaussian(\"Weather_count_3\",p_value_3)\n",
    "\n",
    "## Since this has only one entry.So it not eligible for shapiro test.\n",
    "print(\"Weather count for type 4 is:\",len(weather_count_4))"
   ]
  },
  {
   "cell_type": "markdown",
   "id": "b7c0a519",
   "metadata": {},
   "source": [
    "#### Since the data is not normalised We use Kruskal-Wallis test to validate the null hypothesis"
   ]
  },
  {
   "cell_type": "code",
   "execution_count": 67,
   "id": "7d88f943",
   "metadata": {},
   "outputs": [
    {
     "name": "stdout",
     "output_type": "stream",
     "text": [
      "Reject H0\n"
     ]
    }
   ],
   "source": [
    "stat_k, p_value_k = kruskal(weather_count_1,weather_count_2,weather_count_3,weather_count_4)\n",
    "alpha = 0.05\n",
    "if p_value_k < alpha:\n",
    "    print(\"Reject H0\")\n",
    "else:\n",
    "    print(\"Fail to reject H0\")\n",
    "    "
   ]
  },
  {
   "cell_type": "markdown",
   "id": "4bf76d6a",
   "metadata": {},
   "source": [
    "#### If H0 is true only when mean of different weather are same.\n",
    "### Conclusion: Atleast one group have different median so rejecting the H0\n",
    "### Number of cycles rented are different in different weather conditions"
   ]
  },
  {
   "cell_type": "markdown",
   "id": "f796499a",
   "metadata": {},
   "source": [
    "### Test:3  Number of cycles rented is similar or different in different Season conditions.\n",
    "#### H0: Number of cycles rented is similar across different season conditions.\n",
    "#### H1: Number of cycles rented are different in different season conditions."
   ]
  },
  {
   "cell_type": "code",
   "execution_count": 68,
   "id": "c1e3f8c4",
   "metadata": {},
   "outputs": [],
   "source": [
    "df_season_daily = df.groupby(['event_date',\"season\"]).agg({\"count\":\"sum\"}).reset_index()"
   ]
  },
  {
   "cell_type": "code",
   "execution_count": 69,
   "id": "0d0594b5",
   "metadata": {},
   "outputs": [],
   "source": [
    "season_count_1  = df_season_daily[df_season_daily[\"season\"] == 1][\"count\"]\n",
    "season_count_2  = df_season_daily[df_season_daily[\"season\"] == 2][\"count\"]\n",
    "season_count_3  = df_season_daily[df_season_daily[\"season\"] == 3][\"count\"]\n",
    "season_count_4  = df_season_daily[df_season_daily[\"season\"] == 4][\"count\"]"
   ]
  },
  {
   "cell_type": "code",
   "execution_count": 70,
   "id": "9e7e6a11",
   "metadata": {},
   "outputs": [
    {
     "name": "stdout",
     "output_type": "stream",
     "text": [
      "Reject H0\n",
      "season_count_1 data is not Gaussian\n",
      "Reject H0\n",
      "season_count_2 data is not Gaussian\n",
      "Reject H0\n",
      "season_count_3 data is not Gaussian\n",
      "Fail to reject H0\n",
      "season_count_4 data is Gaussian\n"
     ]
    }
   ],
   "source": [
    "test_stat_5, p_value_5 = shapiro(season_count_1)\n",
    "test_gaussian(\"season_count_1\",p_value_5)\n",
    "\n",
    "test_stat_6, p_value_6 = shapiro(season_count_2)\n",
    "test_gaussian(\"season_count_2\",p_value_6)\n",
    "\n",
    "test_stat_7, p_value_7 = shapiro(season_count_3)\n",
    "test_gaussian(\"season_count_3\",p_value_7)\n",
    "\n",
    "test_stat_8, p_value_8 = shapiro(season_count_4)\n",
    "test_gaussian(\"season_count_4\",p_value_8)"
   ]
  },
  {
   "cell_type": "markdown",
   "id": "01437885",
   "metadata": {},
   "source": [
    "#### Since majority of the data is not normalised We use Kruskal-Wallis test to validate the null hypothesis"
   ]
  },
  {
   "cell_type": "code",
   "execution_count": 71,
   "id": "a3441980",
   "metadata": {},
   "outputs": [
    {
     "name": "stdout",
     "output_type": "stream",
     "text": [
      "9.111105591373848e-33\n",
      "Reject H0\n"
     ]
    }
   ],
   "source": [
    "stat_k, p_value_k = kruskal(season_count_1,season_count_2,season_count_3,season_count_4)\n",
    "print(p_value_k)\n",
    "if p_value_k < 0.05:\n",
    "    print(\"Reject H0\")\n",
    "else:\n",
    "    print(\"Fail to reject H0\")"
   ]
  },
  {
   "cell_type": "markdown",
   "id": "70980c13",
   "metadata": {},
   "source": [
    "#### If H0 is true only when mean of different seasons are same.\n",
    "### Conclusion: Atleast one group have different median so rejecting the H0.\n",
    "### Number of cycles rented are different in different Season conditions"
   ]
  },
  {
   "cell_type": "markdown",
   "id": "3c9f57e6",
   "metadata": {},
   "source": [
    "### Test:4  Weather is dependent on the season.\n",
    "#### H0: Weather and season are independent to each other\n",
    "#### H1: Weather and season are dependent on each other"
   ]
  },
  {
   "cell_type": "code",
   "execution_count": 72,
   "id": "d68a0c32",
   "metadata": {},
   "outputs": [
    {
     "data": {
      "text/html": [
       "<div>\n",
       "<style scoped>\n",
       "    .dataframe tbody tr th:only-of-type {\n",
       "        vertical-align: middle;\n",
       "    }\n",
       "\n",
       "    .dataframe tbody tr th {\n",
       "        vertical-align: top;\n",
       "    }\n",
       "\n",
       "    .dataframe thead th {\n",
       "        text-align: right;\n",
       "    }\n",
       "</style>\n",
       "<table border=\"1\" class=\"dataframe\">\n",
       "  <thead>\n",
       "    <tr style=\"text-align: right;\">\n",
       "      <th>season</th>\n",
       "      <th>1</th>\n",
       "      <th>2</th>\n",
       "      <th>3</th>\n",
       "      <th>4</th>\n",
       "    </tr>\n",
       "    <tr>\n",
       "      <th>weather</th>\n",
       "      <th></th>\n",
       "      <th></th>\n",
       "      <th></th>\n",
       "      <th></th>\n",
       "    </tr>\n",
       "  </thead>\n",
       "  <tbody>\n",
       "    <tr>\n",
       "      <th>1</th>\n",
       "      <td>1759</td>\n",
       "      <td>1801</td>\n",
       "      <td>1930</td>\n",
       "      <td>1702</td>\n",
       "    </tr>\n",
       "    <tr>\n",
       "      <th>2</th>\n",
       "      <td>715</td>\n",
       "      <td>708</td>\n",
       "      <td>604</td>\n",
       "      <td>807</td>\n",
       "    </tr>\n",
       "    <tr>\n",
       "      <th>3</th>\n",
       "      <td>211</td>\n",
       "      <td>224</td>\n",
       "      <td>199</td>\n",
       "      <td>225</td>\n",
       "    </tr>\n",
       "    <tr>\n",
       "      <th>4</th>\n",
       "      <td>1</td>\n",
       "      <td>0</td>\n",
       "      <td>0</td>\n",
       "      <td>0</td>\n",
       "    </tr>\n",
       "  </tbody>\n",
       "</table>\n",
       "</div>"
      ],
      "text/plain": [
       "season      1     2     3     4\n",
       "weather                        \n",
       "1        1759  1801  1930  1702\n",
       "2         715   708   604   807\n",
       "3         211   224   199   225\n",
       "4           1     0     0     0"
      ]
     },
     "execution_count": 72,
     "metadata": {},
     "output_type": "execute_result"
    }
   ],
   "source": [
    "pd.crosstab(index = df[\"weather\"],columns = df[\"season\"])"
   ]
  },
  {
   "cell_type": "code",
   "execution_count": 73,
   "id": "8538bb4f",
   "metadata": {},
   "outputs": [
    {
     "name": "stdout",
     "output_type": "stream",
     "text": [
      "chi_stat: 49.15865559689363\n",
      "p_value: 1.5499250736864862e-07\n"
     ]
    }
   ],
   "source": [
    "chi_stat_c, p_value_c, df_c, exp_freq_c = chi2_contingency(pd.crosstab(index = df[\"weather\"],columns = df[\"season\"]))\n",
    "\n",
    "print(\"chi_stat:\",chi_stat_c)\n",
    "print(\"p_value:\",p_value_c)"
   ]
  },
  {
   "cell_type": "code",
   "execution_count": 74,
   "id": "f4472a43",
   "metadata": {},
   "outputs": [
    {
     "name": "stdout",
     "output_type": "stream",
     "text": [
      "Reject H0\n",
      "Weather and season are dependent on each other\n"
     ]
    }
   ],
   "source": [
    "alpha = 0.05\n",
    "\n",
    "if p_value_c < alpha:\n",
    "    print(\"Reject H0\")\n",
    "    print(\"Weather and season are dependent on each other\")\n",
    "else:\n",
    "    print(\"Fail to reject H0\")\n",
    "    print(\"Weather and season are independent on each other\")"
   ]
  },
  {
   "cell_type": "markdown",
   "id": "9e24073e",
   "metadata": {},
   "source": [
    "### Conclusion: Weather and season are dependent on each other."
   ]
  },
  {
   "cell_type": "code",
   "execution_count": null,
   "id": "ffb3495f",
   "metadata": {},
   "outputs": [],
   "source": []
  }
 ],
 "metadata": {
  "kernelspec": {
   "display_name": "Python 3 (ipykernel)",
   "language": "python",
   "name": "python3"
  },
  "language_info": {
   "codemirror_mode": {
    "name": "ipython",
    "version": 3
   },
   "file_extension": ".py",
   "mimetype": "text/x-python",
   "name": "python",
   "nbconvert_exporter": "python",
   "pygments_lexer": "ipython3",
   "version": "3.11.7"
  }
 },
 "nbformat": 4,
 "nbformat_minor": 5
}
